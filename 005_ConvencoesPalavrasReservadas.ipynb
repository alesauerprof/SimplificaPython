{
  "nbformat": 4,
  "nbformat_minor": 0,
  "metadata": {
    "colab": {
      "provenance": [],
      "authorship_tag": "ABX9TyMy96wBCnrOVk2ycAgT8wI2",
      "include_colab_link": true
    },
    "kernelspec": {
      "name": "python3",
      "display_name": "Python 3"
    },
    "language_info": {
      "name": "python"
    }
  },
  "cells": [
    {
      "cell_type": "markdown",
      "metadata": {
        "id": "view-in-github",
        "colab_type": "text"
      },
      "source": [
        "<a href=\"https://colab.research.google.com/github/alesauerprof/SimplificaPython/blob/main/005_ConvencoesPalavrasReservadas.ipynb\" target=\"_parent\"><img src=\"https://colab.research.google.com/assets/colab-badge.svg\" alt=\"Open In Colab\"/></a>"
      ]
    },
    {
      "cell_type": "markdown",
      "source": [
        "# Simplifica Python\n",
        "---\n",
        "🌐 **Convenções e Palavras Reservadas**\n",
        "\n",
        "É crucial destacar que nem todas as palavras podem ser utilizadas como nomes de variáveis em Python, pois existem algumas regras a serem seguidas.\n",
        "\n",
        "Em Python, os nomes de variáveis podem conter caracteres alfanuméricos (ou seja, letras de **'a' a 'z', 'A' a 'Z'** e números de **'0' a '9'**), bem como alguns caracteres especiais, como o sublinhado (_).\n",
        "\n",
        "Por convenção, os nomes das variáveis devem começar com letras minúsculas.\n",
        "\n",
        "Também é importante observar que existem palavras reservadas em Python, que fazem parte do vocabulário da linguagem e, portanto, não podem ser usadas como nomes de variáveis. Algumas dessas palavras incluem:\n",
        "\n",
        "* **and, as, assert, break, class, continue, def, del, elif, else, except, exec,finally, for, from, global, if, import, in, is, lambda, not, or, pass, print, raise, return, try, while, with e yield.**\n",
        "\n",
        "Vejamos o exemplo abaixo:"
      ],
      "metadata": {
        "id": "2JZT4w46vTG6"
      }
    },
    {
      "cell_type": "code",
      "source": [
        "class = 42  #Perceba que class, por ser uma palavra reservada, não pode ser usada como uma variável."
      ],
      "metadata": {
        "id": "PUR7PHzREasV",
        "colab": {
          "base_uri": "https://localhost:8080/",
          "height": 141
        },
        "outputId": "90f737bf-acbf-4269-f71c-ce637b07d6b5"
      },
      "execution_count": 3,
      "outputs": [
        {
          "output_type": "error",
          "ename": "SyntaxError",
          "evalue": "ignored",
          "traceback": [
            "\u001b[0;36m  File \u001b[0;32m\"<ipython-input-3-d53b106bfaeb>\"\u001b[0;36m, line \u001b[0;32m1\u001b[0m\n\u001b[0;31m    class = 42  #Perceba que class, por ser uma palavra reservada, não pode ser usada como uma variável.\u001b[0m\n\u001b[0m          ^\u001b[0m\n\u001b[0;31mSyntaxError\u001b[0m\u001b[0;31m:\u001b[0m invalid syntax\n"
          ]
        }
      ]
    },
    {
      "cell_type": "markdown",
      "source": [
        "Na primeira linha a variável **numero** inicialmente continha um valor *inteiro* (42). Na segunda linha do código foi atribuído a essa variável um valor do tipo *string* (quarenta e dois).\n",
        "\n",
        "ℹ Quando uma variável em uma linguagem de programação tem a capacidade de receber tipos de dados diferentes (inteiro, string, real, outros), chamamos isso de tipagem dinâmica."
      ],
      "metadata": {
        "id": "OIetAMtWEfur"
      }
    },
    {
      "cell_type": "markdown",
      "source": [
        "---\n",
        "**1.2.1 - Verificação de Tipo Dinâmica**\n",
        "* Você pode verificar o tipo de uma variável usando o comando **type()**. Por exemplo:\n",
        "\n"
      ],
      "metadata": {
        "id": "vcUw2vHb8mvC"
      }
    },
    {
      "cell_type": "code",
      "source": [
        "x = 5\n",
        "print(type(x))\n",
        "\n",
        "y = \"Casa\"\n",
        "print(type(y))\n",
        "\n",
        "z = 1.5341\n",
        "print(type(z))\n"
      ],
      "metadata": {
        "colab": {
          "base_uri": "https://localhost:8080/"
        },
        "id": "3RYOiDo-8elV",
        "outputId": "721b3033-17d4-475b-d171-28f529e3534b"
      },
      "execution_count": null,
      "outputs": [
        {
          "output_type": "stream",
          "name": "stdout",
          "text": [
            "<class 'int'>\n",
            "<class 'str'>\n",
            "<class 'float'>\n"
          ]
        }
      ]
    },
    {
      "cell_type": "markdown",
      "source": [
        "Explicação:\n",
        "\n",
        "* Na primeira linha a variável **x** recebe um valor *inteiro* (5).\n",
        "* Na segunda linha usamos o comando **print** para imprimir algum valor, porém dentro do comando **print** adicionamos o comando **type** que permite exibir qual o tipo de dados atual é uma variável.\n",
        "* Observe que a saída do programa é ***<class 'int'>***. Isso quer dizer que a variável x é do tipo inteiro.\n",
        "\n",
        "\n",
        "* Se observarmos no exemplo, a variável **y** é do tipo str (string) e a variável **z** é do tipo float (números reais com casas decimais.)\n",
        "\n",
        "\n",
        "ℹ O uso do comando **type** se faz necessário quando precisamos de saber qual o tipo da variável."
      ],
      "metadata": {
        "id": "LaudRzXsM4YN"
      }
    },
    {
      "cell_type": "markdown",
      "source": [
        "---\n",
        "**3 - Convenções de Nomes:**\n",
        "\n",
        " É importante seguir convenções de nomes ao declarar variáveis. Geralmente, os nomes de variáveis em Python são em minúsculas, com palavras separadas por sublinhados (snake_case) para melhor legibilidade. Evite nomes de variáveis que são palavras reservadas em Python, como if, while, for, etc."
      ],
      "metadata": {
        "id": "UzTVlQJS9cuY"
      }
    },
    {
      "cell_type": "code",
      "source": [
        "print(1*2)\n",
        "print(12.7*65.2)\n",
        "print(20*2)\n",
        "print(0.12 * 2.65)"
      ],
      "metadata": {
        "colab": {
          "base_uri": "https://localhost:8080/"
        },
        "outputId": "4ed56093-7c74-4c3e-b95a-28a54cd212d7",
        "id": "vXAEU1gu-R53"
      },
      "execution_count": null,
      "outputs": [
        {
          "output_type": "stream",
          "name": "stdout",
          "text": [
            "2\n",
            "828.04\n",
            "40\n",
            "0.318\n"
          ]
        }
      ]
    },
    {
      "cell_type": "markdown",
      "source": [
        "---\n",
        "***4 - Divisão***\n",
        "* A operação de divisão é usada para dividir um valor pelo outro.\n",
        "* O operador / é utilizado para realizar a divisão."
      ],
      "metadata": {
        "id": "XrbOYqQNGUD0"
      }
    },
    {
      "cell_type": "code",
      "source": [
        "print(15/3)\n",
        "print(20/5)\n",
        "print(21.12/23)"
      ],
      "metadata": {
        "colab": {
          "base_uri": "https://localhost:8080/"
        },
        "id": "y5Z0VcnKG5-D",
        "outputId": "b199a885-fccd-4412-82c4-2b47981123f1"
      },
      "execution_count": null,
      "outputs": [
        {
          "output_type": "stream",
          "name": "stdout",
          "text": [
            "5.0\n",
            "4.0\n",
            "0.9182608695652175\n"
          ]
        }
      ]
    },
    {
      "cell_type": "markdown",
      "source": [
        "---\n",
        "***5 - Módulo***\n",
        "* A operação de módulo é usada para encontrar o restante da divisão de um número por outro.\n",
        "* Em Python, você pode usar o operador % para calcular o módulo."
      ],
      "metadata": {
        "id": "PI-qQN0deu-P"
      }
    },
    {
      "cell_type": "code",
      "source": [
        "print(20%5)\n",
        "print(30%-2)\n",
        "print(10.54%5)"
      ],
      "metadata": {
        "colab": {
          "base_uri": "https://localhost:8080/"
        },
        "id": "H907H1RKe99R",
        "outputId": "4f08068c-557e-4ca5-a900-ae61fab8ea37"
      },
      "execution_count": null,
      "outputs": [
        {
          "output_type": "stream",
          "name": "stdout",
          "text": [
            "0\n",
            "0\n",
            "0.5399999999999991\n"
          ]
        }
      ]
    },
    {
      "cell_type": "markdown",
      "source": [
        "---\n",
        "***5 - Potência***\n",
        "* A operação de potência é usada para elevar um número a uma potência.\n",
        "* Em Python, você pode usar o operador ** para calcular a potência. Isso mesmo, são dois asteriscos."
      ],
      "metadata": {
        "id": "0X5HvraE-mLW"
      }
    },
    {
      "cell_type": "code",
      "source": [
        "print(2**3)\n",
        "print(30**-2)\n",
        "print(-2**3)"
      ],
      "metadata": {
        "colab": {
          "base_uri": "https://localhost:8080/"
        },
        "id": "2hoHrdFZ-2g0",
        "outputId": "7ae1c002-1607-4d72-df2a-e5c60170e8d4"
      },
      "execution_count": null,
      "outputs": [
        {
          "output_type": "stream",
          "name": "stdout",
          "text": [
            "8\n",
            "0.0011111111111111111\n",
            "-8\n"
          ]
        }
      ]
    },
    {
      "cell_type": "markdown",
      "source": [
        "---\n",
        "✅ Lembrem-se de que a programação é uma habilidade valiosa que pode abrir muitas portas em suas carreiras. Continuem se aprimorando!\n",
        "\n",
        "[Simplifica Treinamentos](https://www.simplificatreinamentos.com.br/)"
      ],
      "metadata": {
        "id": "7HKuMeFognpU"
      }
    }
  ]
}