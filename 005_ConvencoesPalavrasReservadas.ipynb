{
  "nbformat": 4,
  "nbformat_minor": 0,
  "metadata": {
    "colab": {
      "provenance": [],
      "authorship_tag": "ABX9TyMX5tPtexBG/LwX/gfZ13Tq",
      "include_colab_link": true
    },
    "kernelspec": {
      "name": "python3",
      "display_name": "Python 3"
    },
    "language_info": {
      "name": "python"
    }
  },
  "cells": [
    {
      "cell_type": "markdown",
      "metadata": {
        "id": "view-in-github",
        "colab_type": "text"
      },
      "source": [
        "<a href=\"https://colab.research.google.com/github/alesauerprof/SimplificaPython/blob/main/005_ConvencoesPalavrasReservadas.ipynb\" target=\"_parent\"><img src=\"https://colab.research.google.com/assets/colab-badge.svg\" alt=\"Open In Colab\"/></a>"
      ]
    },
    {
      "cell_type": "markdown",
      "source": [
        "# Simplifica Python\n",
        "---\n",
        "🌐 **Convenções e Palavras Reservadas**\n",
        "\n",
        "**1 - Palavras Reservadas:**\n",
        "\n",
        "É crucial destacar que nem todas as palavras podem ser utilizadas como nomes de variáveis em Python, pois existem algumas regras a serem seguidas.\n",
        "\n",
        "Em Python, os nomes de variáveis podem conter caracteres alfanuméricos (ou seja, letras de **'a' a 'z', 'A' a 'Z'** e números de **'0' a '9'**), bem como alguns caracteres especiais, como o sublinhado (_).\n",
        "\n",
        "Por convenção, os nomes das variáveis devem começar com letras minúsculas.\n",
        "\n",
        "Também é importante observar que existem palavras reservadas em Python, que fazem parte do vocabulário da linguagem e, portanto, não podem ser usadas como nomes de variáveis. Algumas dessas palavras incluem:\n",
        "\n",
        "* **and, as, assert, break, class, continue, def, del, elif, else, except, exec,finally, for, from, global, if, import, in, is, lambda, not, or, pass, print, raise, return, try, while, with e yield.**\n",
        "\n",
        "Vejamos o exemplo abaixo:"
      ],
      "metadata": {
        "id": "2JZT4w46vTG6"
      }
    },
    {
      "cell_type": "code",
      "source": [
        "class = 42  #Perceba que o nome \"class\" em questão, por ser uma palavra reservada, não pode ser usada como uma variável."
      ],
      "metadata": {
        "id": "PUR7PHzREasV",
        "colab": {
          "base_uri": "https://localhost:8080/",
          "height": 141
        },
        "outputId": "90f737bf-acbf-4269-f71c-ce637b07d6b5"
      },
      "execution_count": null,
      "outputs": [
        {
          "output_type": "error",
          "ename": "SyntaxError",
          "evalue": "ignored",
          "traceback": [
            "\u001b[0;36m  File \u001b[0;32m\"<ipython-input-3-d53b106bfaeb>\"\u001b[0;36m, line \u001b[0;32m1\u001b[0m\n\u001b[0;31m    class = 42  #Perceba que class, por ser uma palavra reservada, não pode ser usada como uma variável.\u001b[0m\n\u001b[0m          ^\u001b[0m\n\u001b[0;31mSyntaxError\u001b[0m\u001b[0;31m:\u001b[0m invalid syntax\n"
          ]
        }
      ]
    },
    {
      "cell_type": "markdown",
      "source": [
        "**2 - Convenções:**\n",
        "\n",
        "Python é uma linguagem de programação que segue várias convenções para tornar o código mais legível e consistente. Algumas das principais convenções em Python incluem:\n",
        "\n",
        "**PEP 8 (Python Enhancement Proposal 8):** PEP 8 é o guia de estilo oficial para Python. Ele define regras de formatação, como o uso de espaços em branco, indentação, comprimento máximo de linha e convenções de nomenclatura. Algumas das diretrizes mais importantes incluem:\n",
        "\n",
        "* Usar espaços em branco para separar operadores e elementos em listas e dicionários.\n",
        "* Usar indentação de 4 espaços.\n",
        "* Evitar linhas com mais de 79 caracteres de comprimento para o código-fonte e 72 caracteres para docstrings.\n",
        "* Usar nomes de variáveis em minúsculas com palavras separadas por sublinhados.\n",
        "* Usar nomes de classes em CamelCase (PascalCase).\n",
        "\n",
        "**Convenções de Nomenclatura:** Além das diretrizes do PEP 8, existem algumas convenções específicas para nomear variáveis e funções em Python:\n",
        "\n",
        "* Variáveis locais geralmente têm nomes curtos e descritivos.\n",
        "* Variáveis globais podem ser em maiúsculas.\n",
        "* Funções geralmente têm nomes descritivos em minúsculas com palavras separadas por sublinhados.\n",
        "\n",
        "**Uso de Comentários:** Comentários são usados para documentar o código e torná-lo mais compreensível. Os comentários em Python são iniciados com o caractere #.\n",
        "\n",
        "**Convenções para Constantes:** Embora Python não tenha constantes reais, é comum usar nomes em maiúsculas para indicar que uma variável não deve ser modificada.\n",
        "\n",
        "**Módulos e Pacotes:** Os nomes de módulos e pacotes devem ser curtos, em letras minúsculas e podem conter sublinhados. Os nomes de pacotes devem seguir a mesma convenção.\n",
        "\n",
        "**Indentação**: Python usa a indentação para definir blocos de código. É importante manter a consistência na quantidade de espaços em branco usados para indentar o código.\n",
        "\n",
        "**Documentação de Código**: É uma boa prática incluir docstrings em funções e módulos para descrever seu propósito e funcionamento. O formato das docstrings segue convenções, como o formato do Docstring Numérico de uma linha ou o formato mais detalhado do Docstring Multi-linha.\n",
        "\n",
        "**Tratamento de Exceções:** O tratamento de exceções deve ser usado para lidar com erros de maneira elegante. Isso geralmente envolve a captura de exceções específicas e o fornecimento de mensagens de erro informativas.\n",
        "\n",
        "**Importações:** As importações devem ser organizadas de forma clara no início de um arquivo. É comum agrupar as importações em três seções: módulos da biblioteca padrão, módulos de terceiros e módulos locais.\n",
        "\n",
        "Essas são algumas das principais convenções em Python. Seguir essas diretrizes ajuda a tornar o código mais legível e consistente, facilitando a colaboração em projetos e a manutenção do código a longo prazo."
      ],
      "metadata": {
        "id": "VF5t_PLAhKOQ"
      }
    },
    {
      "cell_type": "markdown",
      "source": [
        "---\n",
        "✅ Lembrem-se de que a programação é uma habilidade valiosa que pode abrir muitas portas em suas carreiras. Continuem se aprimorando!\n",
        "\n",
        "[Simplifica Treinamentos](https://www.simplificatreinamentos.com.br/)"
      ],
      "metadata": {
        "id": "7HKuMeFognpU"
      }
    }
  ]
}