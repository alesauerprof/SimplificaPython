{
  "nbformat": 4,
  "nbformat_minor": 0,
  "metadata": {
    "colab": {
      "provenance": [],
      "authorship_tag": "ABX9TyPlHYBs6xdlRdMItpoAwp8y",
      "include_colab_link": true
    },
    "kernelspec": {
      "name": "python3",
      "display_name": "Python 3"
    },
    "language_info": {
      "name": "python"
    }
  },
  "cells": [
    {
      "cell_type": "markdown",
      "metadata": {
        "id": "view-in-github",
        "colab_type": "text"
      },
      "source": [
        "<a href=\"https://colab.research.google.com/github/alesauerprof/SimplificaPython/blob/main/001_PrimeirosPassosColab.ipynb\" target=\"_parent\"><img src=\"https://colab.research.google.com/assets/colab-badge.svg\" alt=\"Open In Colab\"/></a>"
      ]
    },
    {
      "cell_type": "markdown",
      "source": [
        "# Simplifica Python\n",
        "---\n",
        "🤖 **Primeiro Programa em Python**\n",
        "\n",
        "Iremos criar nosso paprender nessa aula:\n",
        "\n",
        "✅ Uso do comando print;\n",
        "\n",
        "✅ Como fazer comentários em python.\n",
        "\n"
      ],
      "metadata": {
        "id": "2JZT4w46vTG6"
      }
    },
    {
      "cell_type": "markdown",
      "source": [
        "---\n",
        "***1 - Imprimir uma mensagem na tela***\n",
        "* O código abaixo irá imprimir a mensagem: **Olá, pythonistas** na tela.\n",
        "* Para imprimir um texto na tela, é necessário que o texto esteja dentro de aspas duplas ou aspas simples.**negrito**\n",
        "\n"
      ],
      "metadata": {
        "id": "qlTKcQzU6mFl"
      }
    },
    {
      "cell_type": "code",
      "source": [
        "print(\"Olá,  Pythonistas\")"
      ],
      "metadata": {
        "colab": {
          "base_uri": "https://localhost:8080/"
        },
        "id": "jxHZZNG8vpWh",
        "outputId": "5f5dfd03-8e50-4481-917f-6e709e58d943"
      },
      "execution_count": null,
      "outputs": [
        {
          "output_type": "stream",
          "name": "stdout",
          "text": [
            "Olá,  Pythonistas\n"
          ]
        }
      ]
    },
    {
      "cell_type": "markdown",
      "source": [
        "---\n",
        "***2 - Imprimir operações aritméticas na tela***\n",
        "* O código abaixo irá realizar operações aritméticas e exibi-las na tela o resultado dessa operação.\n",
        "* Para realizar essa operação, **não** é necessário que a operação esteja dentro de aspas duplas ou aspas simples.\n",
        "\n"
      ],
      "metadata": {
        "id": "vcUw2vHb8mvC"
      }
    },
    {
      "cell_type": "code",
      "source": [
        "print(1+2)\n",
        "print(10-3)\n",
        "print(3*5)\n",
        "print(10/2)"
      ],
      "metadata": {
        "colab": {
          "base_uri": "https://localhost:8080/"
        },
        "id": "3RYOiDo-8elV",
        "outputId": "831a16b1-4521-4126-ab4b-062b393371b0"
      },
      "execution_count": null,
      "outputs": [
        {
          "output_type": "stream",
          "name": "stdout",
          "text": [
            "3\n",
            "7\n",
            "15\n",
            "5.0\n"
          ]
        }
      ]
    },
    {
      "cell_type": "markdown",
      "source": [
        "---\n",
        "***3 - É possível adicionar comentários no código, usando o caracter #***\n",
        "* Vejamos o mesmo código que foi escrito acima comentado.\n",
        "* Basta utilizar o caracter **#** na frente do comentário que deseja adicionar ao seu código."
      ],
      "metadata": {
        "id": "UzTVlQJS9cuY"
      }
    },
    {
      "cell_type": "code",
      "source": [
        "#Esse comando irá realizar a operação 1+2. A saída do comando será o valor 3.\n",
        "print(1+2)\n",
        "#Esse comando irá realizar a operação 10-3. A saída do comando será o valor 7.\n",
        "print(10-3)\n",
        "#Esse comando irá realizar a operação 3*5. A saída do comando será o valor 15.\n",
        "print(3*5)\n",
        "#Esse comando irá realizar a operação 10/2. A saída do comando será o valor 5.\n",
        "print(10/2)"
      ],
      "metadata": {
        "colab": {
          "base_uri": "https://localhost:8080/"
        },
        "outputId": "5a3fe67b-4185-4444-8151-80fb588396f4",
        "id": "vXAEU1gu-R53"
      },
      "execution_count": null,
      "outputs": [
        {
          "output_type": "stream",
          "name": "stdout",
          "text": [
            "3\n",
            "7\n",
            "15\n",
            "5.0\n"
          ]
        }
      ]
    },
    {
      "cell_type": "markdown",
      "source": [
        "---\n",
        "*** 4 - Existem os comentários de bloco, que servem para adicionar um comentário mais extenso ao código. ***\n",
        "* Os comentários de bloco são usados para documentar várias linhas de código.\n",
        "* Você pode criar um comentário de bloco usando três aspas duplas (\"\"\") ou três aspas simples (''').\n",
        "* O comentário de bloco é encerrado com o mesmo número de aspas no final."
      ],
      "metadata": {
        "id": "XrbOYqQNGUD0"
      }
    },
    {
      "cell_type": "code",
      "source": [
        "'''\n",
        "Programa que imprime na tela a\n",
        "mensagem: Olá, Phytonistas!!\n",
        "'''\n",
        "\n",
        "print(\"Olá, Phytonistas!\")"
      ],
      "metadata": {
        "colab": {
          "base_uri": "https://localhost:8080/"
        },
        "id": "y5Z0VcnKG5-D",
        "outputId": "ca0aaa1f-b914-4fab-e930-dd487514fc7c"
      },
      "execution_count": null,
      "outputs": [
        {
          "output_type": "stream",
          "name": "stdout",
          "text": [
            "Olá, Phytonistas!\n"
          ]
        }
      ]
    }
  ]
}