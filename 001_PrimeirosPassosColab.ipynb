{
  "nbformat": 4,
  "nbformat_minor": 0,
  "metadata": {
    "colab": {
      "provenance": [],
      "authorship_tag": "ABX9TyO7RLQVaRU4cW/tHOb2HiGg",
      "include_colab_link": true
    },
    "kernelspec": {
      "name": "python3",
      "display_name": "Python 3"
    },
    "language_info": {
      "name": "python"
    }
  },
  "cells": [
    {
      "cell_type": "markdown",
      "metadata": {
        "id": "view-in-github",
        "colab_type": "text"
      },
      "source": [
        "<a href=\"https://colab.research.google.com/github/alesauerprof/SimplificaPython/blob/main/001_PrimeirosPassosColab.ipynb\" target=\"_parent\"><img src=\"https://colab.research.google.com/assets/colab-badge.svg\" alt=\"Open In Colab\"/></a>"
      ]
    },
    {
      "cell_type": "markdown",
      "source": [
        "# **Introdução**"
      ],
      "metadata": {
        "id": "gbZuNGkUYhUs"
      }
    },
    {
      "cell_type": "code",
      "execution_count": 5,
      "metadata": {
        "colab": {
          "base_uri": "https://localhost:8080/"
        },
        "id": "Cv2mr1vdREfT",
        "outputId": "4a52c9ba-22bb-470c-befd-013fa089e991"
      },
      "outputs": [
        {
          "output_type": "stream",
          "name": "stdout",
          "text": [
            "Esse é o treinamento Simplifica Python\n"
          ]
        }
      ],
      "source": [
        "# Esse programa exibe um conteúdo na tela, usando o comando print.\n",
        "# O comando devera estar entre chaves.\n",
        "# Para textos, é necessário colocar o texto entre aspas duplas ou aspas simples\n",
        "print('Esse é o treinamento Simplifica Python')"
      ]
    }
  ]
}