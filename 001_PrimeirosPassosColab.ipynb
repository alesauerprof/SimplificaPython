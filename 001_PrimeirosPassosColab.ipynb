{
  "nbformat": 4,
  "nbformat_minor": 0,
  "metadata": {
    "colab": {
      "provenance": [],
      "authorship_tag": "ABX9TyP7E4EH1DWtSymCA99YAc3z",
      "include_colab_link": true
    },
    "kernelspec": {
      "name": "python3",
      "display_name": "Python 3"
    },
    "language_info": {
      "name": "python"
    }
  },
  "cells": [
    {
      "cell_type": "markdown",
      "metadata": {
        "id": "view-in-github",
        "colab_type": "text"
      },
      "source": [
        "<a href=\"https://colab.research.google.com/github/alesauerprof/SimplificaPython/blob/main/001_PrimeirosPassosColab.ipynb\" target=\"_parent\"><img src=\"https://colab.research.google.com/assets/colab-badge.svg\" alt=\"Open In Colab\"/></a>"
      ]
    },
    {
      "cell_type": "markdown",
      "source": [
        "# ** Simplifica Python**\n",
        "---\n",
        "🤖 **Primeiro Programa em Python**\n",
        "\n",
        "Iremos aprender nessa aula:\n",
        "\n",
        "✅ Uso do comando print;\n",
        "\n",
        "✅ Como fazer comentários em python."
      ],
      "metadata": {
        "id": "2JZT4w46vTG6"
      }
    },
    {
      "cell_type": "code",
      "source": [
        "print(\"Olá,  Pythonistas\")"
      ],
      "metadata": {
        "colab": {
          "base_uri": "https://localhost:8080/"
        },
        "id": "jxHZZNG8vpWh",
        "outputId": "26ea609f-f928-4d4a-ff4f-fd027b0ddf8b"
      },
      "execution_count": 6,
      "outputs": [
        {
          "output_type": "stream",
          "name": "stdout",
          "text": [
            "Olá,  Pythonistas\n"
          ]
        }
      ]
    }
  ]
}