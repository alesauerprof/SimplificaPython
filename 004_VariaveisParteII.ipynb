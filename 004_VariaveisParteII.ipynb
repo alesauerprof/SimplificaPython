{
  "nbformat": 4,
  "nbformat_minor": 0,
  "metadata": {
    "colab": {
      "provenance": [],
      "authorship_tag": "ABX9TyNxDFgMT6MSjFAazR1IO33B",
      "include_colab_link": true
    },
    "kernelspec": {
      "name": "python3",
      "display_name": "Python 3"
    },
    "language_info": {
      "name": "python"
    }
  },
  "cells": [
    {
      "cell_type": "markdown",
      "metadata": {
        "id": "view-in-github",
        "colab_type": "text"
      },
      "source": [
        "<a href=\"https://colab.research.google.com/github/alesauerprof/SimplificaPython/blob/main/004_VariaveisParteII.ipynb\" target=\"_parent\"><img src=\"https://colab.research.google.com/assets/colab-badge.svg\" alt=\"Open In Colab\"/></a>"
      ]
    },
    {
      "cell_type": "markdown",
      "source": [
        "# Simplifica Python\n",
        "---\n",
        "🤖 **Variáveis - Parte 02**\n",
        "\n",
        "Continuando nossa jornada de estudos das variáveis, agora vamos mergulhar um pouco mais fundo nesse mundo.  \n",
        "\n",
        "Vamos aprender os seguintes tópicos nesta aula::\n",
        "\n",
        "✔ Concatenação de strings\n",
        "\n",
        "✔ Conversão de tipos\n",
        "\n",
        "✔ Conclusões Gerais"
      ],
      "metadata": {
        "id": "2JZT4w46vTG6"
      }
    },
    {
      "cell_type": "markdown",
      "source": [
        "---\n",
        "***1 - Concatenação de Strings***\n",
        "\n",
        "\n",
        "* Concatenar variáveis em Python significa combinar duas ou mais variáveis em uma única sequência de caracteres (string).\n",
        "* Isso é uma tarefa comum ao trabalhar com strings, e Python oferece várias maneiras de realizar essa operação.\n",
        "* Vamos ver as principais técnicas de concatenação de variáveis em Python com exemplos.\n",
        "\n",
        "**Exemplo 01:**"
      ],
      "metadata": {
        "id": "qlTKcQzU6mFl"
      }
    },
    {
      "cell_type": "code",
      "source": [
        "nome = \"Alexandre\"\n",
        "sobrenome = \"Sauer\"\n",
        "nome_completo = nome + \" \" + sobrenome\n",
        "print(nome_completo)  # Saída: \"João Silva\""
      ],
      "metadata": {
        "id": "jxHZZNG8vpWh",
        "colab": {
          "base_uri": "https://localhost:8080/"
        },
        "outputId": "c8be40b3-f632-4b0b-be9c-1ab5405bfaf0"
      },
      "execution_count": 2,
      "outputs": [
        {
          "output_type": "stream",
          "name": "stdout",
          "text": [
            "João Silva\n"
          ]
        }
      ]
    },
    {
      "cell_type": "markdown",
      "source": [
        "Nesse exemplo:\n",
        "\n",
        "* O operador de adição (+) é usado para concatenar strings em Python. Você simplesmente adiciona duas strings usando o operador de adição."
      ],
      "metadata": {
        "id": "M9qcdNjCDT9z"
      }
    },
    {
      "cell_type": "markdown",
      "source": [
        "**Exemplo 02:**"
      ],
      "metadata": {
        "id": "fQixatcvzdwc"
      }
    },
    {
      "cell_type": "code",
      "source": [
        "nome = \"Maria\"\n",
        "idade = 30\n",
        "mensagem = f\"Olá, meu nome é {nome} e eu tenho {idade} anos.\"\n",
        "print(mensagem)  # Saída: \"Olá, meu nome é Maria e eu tenho 30 anos.\""
      ],
      "metadata": {
        "colab": {
          "base_uri": "https://localhost:8080/"
        },
        "id": "FBuh39HrzoqF",
        "outputId": "53d197cf-c336-4994-b2db-acdb65a68adb"
      },
      "execution_count": 3,
      "outputs": [
        {
          "output_type": "stream",
          "name": "stdout",
          "text": [
            "Olá, meu nome é Maria e eu tenho 30 anos.\n"
          ]
        }
      ]
    },
    {
      "cell_type": "markdown",
      "source": [
        "Nesse exemplo:\n",
        "\n",
        "* É usado um recurso chamado f-strings, disponível apenas nas versões do python acima da3.6.\n",
        "* As f-strings são uma forma mais recente e conveniente de concatenar variáveis em strings. Você pode incorporar variáveis diretamente em uma string prefixada por 'f' e chaves {}.\n",
        "* É importante adicionar o caracter f antes da aspas duplas."
      ],
      "metadata": {
        "id": "MbmHZ_a6zyVr"
      }
    },
    {
      "cell_type": "markdown",
      "source": [
        "---\n",
        "✅ Se tiverem dúvidas adicionais ou precisarem de assistência com seus projetos, não hesitem em entrar em contato. Estou aqui para ajudar.\n",
        "\n",
        "[Simplifica Treinamentos](https://www.simplificatreinamentos.com.br/)"
      ],
      "metadata": {
        "id": "7HKuMeFognpU"
      }
    }
  ]
}