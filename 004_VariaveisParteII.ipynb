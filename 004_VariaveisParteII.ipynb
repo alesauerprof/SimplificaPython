{
  "nbformat": 4,
  "nbformat_minor": 0,
  "metadata": {
    "colab": {
      "provenance": [],
      "authorship_tag": "ABX9TyO6YNin11jhdAzI5S78B6y3",
      "include_colab_link": true
    },
    "kernelspec": {
      "name": "python3",
      "display_name": "Python 3"
    },
    "language_info": {
      "name": "python"
    }
  },
  "cells": [
    {
      "cell_type": "markdown",
      "metadata": {
        "id": "view-in-github",
        "colab_type": "text"
      },
      "source": [
        "<a href=\"https://colab.research.google.com/github/alesauerprof/SimplificaPython/blob/main/004_VariaveisParteII.ipynb\" target=\"_parent\"><img src=\"https://colab.research.google.com/assets/colab-badge.svg\" alt=\"Open In Colab\"/></a>"
      ]
    },
    {
      "cell_type": "markdown",
      "source": [
        "# Simplifica Python\n",
        "---\n",
        "🤖 **Variáveis - Parte 02**\n",
        "\n",
        "Continuando nossa jornada de estudos das variáveis, agora vamos mergulhar um pouco mais fundo nesse mundo.  \n",
        "\n",
        "Vamos aprender os seguintes tópicos nesta aula::\n",
        "\n",
        "✔ Concatenação de strings\n",
        "\n",
        "✔ Conversão de tipos"
      ],
      "metadata": {
        "id": "2JZT4w46vTG6"
      }
    },
    {
      "cell_type": "markdown",
      "source": [
        "---\n",
        "***1 - Concatenação de Strings***\n",
        "\n",
        "\n",
        "* Concatenar variáveis em Python significa combinar duas ou mais variáveis em uma única sequência de caracteres (string).\n",
        "* Isso é uma tarefa comum ao trabalhar com strings, e Python oferece várias maneiras de realizar essa operação.\n",
        "* Vamos ver as principais técnicas de concatenação de variáveis em Python com exemplos.\n",
        "\n",
        "**Exemplo 01:**"
      ],
      "metadata": {
        "id": "qlTKcQzU6mFl"
      }
    },
    {
      "cell_type": "code",
      "source": [
        "nome = \"Alexandre\"\n",
        "sobrenome = \"Sauer\"\n",
        "nome_completo = nome + \" \" + sobrenome\n",
        "print(nome_completo)  # Saída: \"João Silva\""
      ],
      "metadata": {
        "id": "jxHZZNG8vpWh",
        "colab": {
          "base_uri": "https://localhost:8080/"
        },
        "outputId": "c8be40b3-f632-4b0b-be9c-1ab5405bfaf0"
      },
      "execution_count": null,
      "outputs": [
        {
          "output_type": "stream",
          "name": "stdout",
          "text": [
            "João Silva\n"
          ]
        }
      ]
    },
    {
      "cell_type": "markdown",
      "source": [
        "Nesse exemplo:\n",
        "\n",
        "* O operador de adição (+) é usado para concatenar strings em Python. Você simplesmente adiciona duas strings usando o operador de adição."
      ],
      "metadata": {
        "id": "M9qcdNjCDT9z"
      }
    },
    {
      "cell_type": "markdown",
      "source": [
        "**Exemplo 02:**"
      ],
      "metadata": {
        "id": "fQixatcvzdwc"
      }
    },
    {
      "cell_type": "code",
      "source": [
        "nome = \"Maria\"\n",
        "idade = 30\n",
        "mensagem = f\"Olá, meu nome é {nome} e eu tenho {idade} anos.\"\n",
        "print(mensagem)  # Saída: \"Olá, meu nome é Maria e eu tenho 30 anos.\""
      ],
      "metadata": {
        "colab": {
          "base_uri": "https://localhost:8080/"
        },
        "id": "FBuh39HrzoqF",
        "outputId": "53d197cf-c336-4994-b2db-acdb65a68adb"
      },
      "execution_count": null,
      "outputs": [
        {
          "output_type": "stream",
          "name": "stdout",
          "text": [
            "Olá, meu nome é Maria e eu tenho 30 anos.\n"
          ]
        }
      ]
    },
    {
      "cell_type": "markdown",
      "source": [
        "Nesse exemplo:\n",
        "\n",
        "* É usado um recurso chamado f-strings, disponível apenas nas versões do python acima da3.6.\n",
        "* As f-strings são uma forma mais recente e conveniente de concatenar variáveis em strings. Você pode incorporar variáveis diretamente em uma string prefixada por 'f' e chaves {}.\n",
        "* É importante adicionar o caracter f antes da aspas duplas."
      ],
      "metadata": {
        "id": "MbmHZ_a6zyVr"
      }
    },
    {
      "cell_type": "markdown",
      "source": [
        "***1 - Conversão de Tipos***\n",
        "\n",
        "\n",
        "* A conversão de tipos (também conhecida como \"**casting**\") é o processo de transformar um valor de um tipo de dado em outro tipo de dado. Isso é útil quando você precisa realizar operações que exigem tipos de dados compatíveis ou quando deseja exibir um valor de uma forma específica. Vamos ver alguns exemplos de conversão de tipos em Python:\n",
        "\n",
        "**Exemplo 01: Conversão de int para float:**"
      ],
      "metadata": {
        "id": "JLzwbyFY2_Yk"
      }
    },
    {
      "cell_type": "code",
      "source": [
        "x = 10\n",
        "y = float(x) # Aqui estou dizendo que a variável x, que até então era um int, será convertida para float.\n",
        "print(y)  # Isso imprimirá 10.0"
      ],
      "metadata": {
        "colab": {
          "base_uri": "https://localhost:8080/"
        },
        "id": "1mZLZC5N3arW",
        "outputId": "a23ffc2c-96d6-46be-d041-187bbfb32c37"
      },
      "execution_count": 1,
      "outputs": [
        {
          "output_type": "stream",
          "name": "stdout",
          "text": [
            "10.0\n"
          ]
        }
      ]
    },
    {
      "cell_type": "markdown",
      "source": [
        "**Exemplo 02: Conversão de float para int (arredondando para baixo):**"
      ],
      "metadata": {
        "id": "2pJyBGnM4Hke"
      }
    },
    {
      "cell_type": "code",
      "source": [
        "x = 10.5\n",
        "y = int(x)\n",
        "print(y)  # Isso imprimirá 10"
      ],
      "metadata": {
        "colab": {
          "base_uri": "https://localhost:8080/"
        },
        "id": "I2VC734W4U7d",
        "outputId": "7cb20b65-1f0c-4741-edd8-0e6342745e00"
      },
      "execution_count": 2,
      "outputs": [
        {
          "output_type": "stream",
          "name": "stdout",
          "text": [
            "10\n"
          ]
        }
      ]
    },
    {
      "cell_type": "markdown",
      "source": [
        "**Exemplo 03: Conversão de string para int ou float:**"
      ],
      "metadata": {
        "id": "MtZUBDEb450W"
      }
    },
    {
      "cell_type": "code",
      "source": [
        "num_str = \"42\"\n",
        "num_int = int(num_str)\n",
        "num_float = float(num_str)\n",
        "print(num_int)    # Isso imprimirá 42\n",
        "print(num_float)  # Isso imprimirá 42.0"
      ],
      "metadata": {
        "colab": {
          "base_uri": "https://localhost:8080/"
        },
        "id": "8bhSEOcL5F8H",
        "outputId": "95177ec1-fa14-42bd-da38-7f572e204649"
      },
      "execution_count": 3,
      "outputs": [
        {
          "output_type": "stream",
          "name": "stdout",
          "text": [
            "42\n",
            "42.0\n"
          ]
        }
      ]
    },
    {
      "cell_type": "markdown",
      "source": [
        "**Exemplo 04: Conversão de int para string:**\n"
      ],
      "metadata": {
        "id": "YLPSh49F5Lta"
      }
    },
    {
      "cell_type": "code",
      "source": [
        "x = 123\n",
        "x_str = str(x)\n",
        "print(x_str)  # Isso resultará na string \"123\""
      ],
      "metadata": {
        "colab": {
          "base_uri": "https://localhost:8080/"
        },
        "id": "k9ORZnmX5QgH",
        "outputId": "b42405b5-6943-4e2e-e0ff-2ecb9ed82034"
      },
      "execution_count": 4,
      "outputs": [
        {
          "output_type": "stream",
          "name": "stdout",
          "text": [
            "123\n"
          ]
        }
      ]
    },
    {
      "cell_type": "markdown",
      "source": [
        "**Exemplo 05: Conversão de string para lista (separando por vírgulas,por exemplo):**"
      ],
      "metadata": {
        "id": "UrLkQUGk5ii0"
      }
    },
    {
      "cell_type": "code",
      "source": [
        "csv = \"1,2,3,4,5\"\n",
        "list_from_csv = csv.split(',')\n",
        "print(list_from_csv)  # Isso resultará em uma lista ['1', '2', '3', '4', '5']"
      ],
      "metadata": {
        "colab": {
          "base_uri": "https://localhost:8080/"
        },
        "id": "f91eBhd05pwt",
        "outputId": "f58f56bf-5358-44d3-c80a-b91a78744db5"
      },
      "execution_count": 5,
      "outputs": [
        {
          "output_type": "stream",
          "name": "stdout",
          "text": [
            "['1', '2', '3', '4', '5']\n"
          ]
        }
      ]
    },
    {
      "cell_type": "markdown",
      "source": [
        "**Exemplo 06: Conversão de lista para string (juntando elementos):**"
      ],
      "metadata": {
        "id": "1Xv0XYOq51wW"
      }
    },
    {
      "cell_type": "code",
      "source": [
        "my_list = ['apple', 'banana', 'cherry']\n",
        "list_as_str = ', '.join(my_list)\n",
        "print(list_as_str)  # Isso resultará na string \"apple, banana, cherry\""
      ],
      "metadata": {
        "colab": {
          "base_uri": "https://localhost:8080/"
        },
        "id": "GBig_T2x59pe",
        "outputId": "3440470d-915d-41b0-ef05-c610f808e774"
      },
      "execution_count": 6,
      "outputs": [
        {
          "output_type": "stream",
          "name": "stdout",
          "text": [
            "apple, banana, cherry\n"
          ]
        }
      ]
    },
    {
      "cell_type": "markdown",
      "source": [
        "**Exemplo 07: Conversão de string para boolean:**"
      ],
      "metadata": {
        "id": "4I9-0qmP6Nrg"
      }
    },
    {
      "cell_type": "code",
      "source": [
        "true_str = \"True\"\n",
        "false_str = \"False\"\n",
        "true_bool = bool(true_str)\n",
        "false_bool = bool(false_str)\n",
        "print(true_bool)  # Isso imprimirá True\n",
        "print(false_bool)  # Isso imprimirá True (qualquer string não vazia é considerada True)"
      ],
      "metadata": {
        "colab": {
          "base_uri": "https://localhost:8080/"
        },
        "id": "TrWFL4Vn6RAE",
        "outputId": "a6b0c45f-65ac-4b65-a820-e195266ae80b"
      },
      "execution_count": 11,
      "outputs": [
        {
          "output_type": "stream",
          "name": "stdout",
          "text": [
            "True\n",
            "True\n"
          ]
        }
      ]
    },
    {
      "cell_type": "markdown",
      "source": [
        "**Exemplo 08 Conversão de boolean para int:**"
      ],
      "metadata": {
        "id": "Quv1e9nP6Y6u"
      }
    },
    {
      "cell_type": "code",
      "source": [
        "true_bool = True\n",
        "false_bool = False\n",
        "true_int = int(true_bool)\n",
        "false_int = int(false_bool)\n",
        "print(true_int)  # Isso imprimirá 1\n",
        "print(false_int)  # Isso imprimirá 0"
      ],
      "metadata": {
        "colab": {
          "base_uri": "https://localhost:8080/"
        },
        "id": "x-UmL9UI6d5Y",
        "outputId": "0c1fa9d3-177c-406c-f3a0-31cd41dfdd31"
      },
      "execution_count": 10,
      "outputs": [
        {
          "output_type": "stream",
          "name": "stdout",
          "text": [
            "1\n",
            "0\n"
          ]
        }
      ]
    },
    {
      "cell_type": "markdown",
      "source": [
        "---\n",
        "✅ Se tiverem dúvidas adicionais ou precisarem de assistência com seus projetos, não hesitem em entrar em contato. Estou aqui para ajudar.\n",
        "\n",
        "[Simplifica Treinamentos](https://www.simplificatreinamentos.com.br/)"
      ],
      "metadata": {
        "id": "7HKuMeFognpU"
      }
    }
  ]
}