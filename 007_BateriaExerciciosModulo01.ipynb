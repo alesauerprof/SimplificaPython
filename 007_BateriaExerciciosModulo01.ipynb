{
  "nbformat": 4,
  "nbformat_minor": 0,
  "metadata": {
    "colab": {
      "provenance": [],
      "authorship_tag": "ABX9TyOtIpNwGqLkY6DTxFhI9wUl",
      "include_colab_link": true
    },
    "kernelspec": {
      "name": "python3",
      "display_name": "Python 3"
    },
    "language_info": {
      "name": "python"
    }
  },
  "cells": [
    {
      "cell_type": "markdown",
      "metadata": {
        "id": "view-in-github",
        "colab_type": "text"
      },
      "source": [
        "<a href=\"https://colab.research.google.com/github/alesauerprof/SimplificaPython/blob/main/007_BateriaExerciciosModulo01.ipynb\" target=\"_parent\"><img src=\"https://colab.research.google.com/assets/colab-badge.svg\" alt=\"Open In Colab\"/></a>"
      ]
    },
    {
      "cell_type": "markdown",
      "source": [
        "# Simplifica Python\n",
        "---\n",
        "🌐 **Bateria de Exercícios**\n",
        "\n",
        "Bem-vindo à nossa bateria de exercícios em Python! Esta série de desafios foi criada para ajudá-lo a aprimorar suas habilidades de programação em Python.\n",
        "\n",
        "Nossos exercícios abrangem os tópicos estudados até o momento. Cada exercício é projetado para desafiá-lo a aplicar o que aprendeu, fornecendo instruções claras e exemplos para orientá-lo.\n",
        "\n",
        "Não hesite em explorar, experimentar e testar suas habilidades. A prática constante é a chave para se tornar um programador habilidoso. Divirta-se resolvendo esses exercícios e, acima de tudo, não tenha medo de cometer erros, pois é assim que aprendemos e crescemos como programadores.\n",
        "\n",
        "Boa sorte e vamos começar a resolver esses desafios em Python!"
      ],
      "metadata": {
        "id": "2JZT4w46vTG6"
      }
    },
    {
      "cell_type": "markdown",
      "source": [
        "**Exercício 01: Calculadora de Gorjetas:**\n",
        "\n",
        "Crie um programa que solicite ao usuário o valor da conta em um restaurante e a porcentagem de gorjeta desejada. Calcule o valor da gorjeta e a conta total, em seguida, exiba os resultados com uma mensagem usando a função print."
      ],
      "metadata": {
        "id": "EmcI7ZcX8B9R"
      }
    },
    {
      "cell_type": "code",
      "source": [
        "# Solicita ao usuário o valor da conta e a porcentagem de gorjeta\n",
        "conta = float(input(\"Digite o valor da conta: R$ \"))\n",
        "porcentagem_gorjeta = float(input(\"Digite a porcentagem de gorjeta desejada: \"))\n",
        "\n",
        "# Calcula o valor da gorjeta e a conta total\n",
        "gorjeta = conta * (porcentagem_gorjeta / 100)\n",
        "total = conta + gorjeta\n",
        "\n",
        "# Exibe os resultados\n",
        "print(f\"Gorjeta: R$ {gorjeta:.2f}\")\n",
        "print(f\"Conta total: R$ {total:.2f}\")\n"
      ],
      "metadata": {
        "id": "PUR7PHzREasV",
        "colab": {
          "base_uri": "https://localhost:8080/"
        },
        "outputId": "0d0c21c7-8f40-4379-c2d0-8574c45df008"
      },
      "execution_count": 2,
      "outputs": [
        {
          "output_type": "stream",
          "name": "stdout",
          "text": [
            "Digite o valor da conta: R$ 200\n",
            "Digite a porcentagem de gorjeta desejada: 8\n",
            "Gorjeta: R$ 16.00\n",
            "Conta total: R$ 216.00\n"
          ]
        }
      ]
    },
    {
      "cell_type": "markdown",
      "source": [
        "**Exercício 02: Conversor de Temperatura:**\n",
        "\n",
        "Peça ao usuário para fornecer uma temperatura em graus Celsius. Converta essa temperatura para graus Fahrenheit usando a fórmula F = (C * 9/5) + 32 e exiba o resultado usando print."
      ],
      "metadata": {
        "id": "G8GxuJRh9BNy"
      }
    },
    {
      "cell_type": "code",
      "source": [
        "# Solicita ao usuário a temperatura em graus Celsius\n",
        "celsius = float(input(\"Digite a temperatura em graus Celsius: \"))\n",
        "\n",
        "# Converte para Fahrenheit\n",
        "fahrenheit = (celsius * 9/5) + 32\n",
        "\n",
        "# Exibe o resultado\n",
        "print(f\"{celsius}°C é igual a {fahrenheit}°F\")"
      ],
      "metadata": {
        "colab": {
          "base_uri": "https://localhost:8080/"
        },
        "id": "FUX4bnp39ZGb",
        "outputId": "1eadd282-e8a0-45f1-e275-83dff092f1e1"
      },
      "execution_count": 3,
      "outputs": [
        {
          "output_type": "stream",
          "name": "stdout",
          "text": [
            "Digite a temperatura em graus Celsius: 25\n",
            "25.0°C é igual a 77.0°F\n"
          ]
        }
      ]
    },
    {
      "cell_type": "markdown",
      "source": [
        "**Exercício 03: Conversor de Moeda:**\n",
        "\n",
        "Converta uma quantidade de dinheiro de uma moeda para outra. Peça ao usuário para inserir o valor em uma moeda (por exemplo, dólares) e a taxa de câmbio atual para outra moeda (por exemplo, euros). Calcule o valor na segunda moeda e exiba o resultado com print."
      ],
      "metadata": {
        "id": "FU8AvR2Ba6Kt"
      }
    },
    {
      "cell_type": "code",
      "source": [
        "# Solicita ao usuário o valor em uma moeda\n",
        "valor_em_moeda_origem = float(input(\"Digite o valor em sua moeda: \"))\n",
        "\n",
        "# Solicita a taxa de câmbio\n",
        "taxa_de_cambio = float(input(\"Digite a taxa de câmbio para a moeda de destino: \"))\n",
        "\n",
        "# Calcula o valor na moeda de destino\n",
        "valor_em_moeda_destino = valor_em_moeda_origem * taxa_de_cambio\n",
        "\n",
        "# Exibe o resultado\n",
        "print(f\"O valor em sua moeda de destino é: {valor_em_moeda_destino:.2f}\")"
      ],
      "metadata": {
        "colab": {
          "base_uri": "https://localhost:8080/"
        },
        "id": "BCtMxQCOjb7A",
        "outputId": "e9ce6f4c-27e9-4fee-90f6-21a094b80c8b"
      },
      "execution_count": 4,
      "outputs": [
        {
          "output_type": "stream",
          "name": "stdout",
          "text": [
            "Digite o valor principal: R$ 100\n",
            "Digite a taxa de juros anual (em porcentagem): 12\n",
            "Digite o número de períodos por ano: 3\n",
            "Digite o número de anos: 5\n",
            "O montante final após 5 anos é de R$ 180.09\n"
          ]
        }
      ]
    },
    {
      "cell_type": "markdown",
      "source": [
        "**Exercício 04: Calculadora de Desconto de Compras:**\n",
        "\n",
        "Peça ao usuário para inserir o preço de um produto e o percentual de desconto que desejam aplicar. Calcule o valor do desconto e o preço final do produto com desconto, e imprima os resultados."
      ],
      "metadata": {
        "id": "IDHN0MHdkNb3"
      }
    },
    {
      "cell_type": "code",
      "source": [
        "# Solicita ao usuário o preço do produto e o percentual de desconto\n",
        "preco_produto = float(input(\"Digite o preço do produto: R$ \"))\n",
        "percentual_desconto = float(input(\"Digite o percentual de desconto desejado: \"))\n",
        "\n",
        "# Calcula o valor do desconto\n",
        "valor_desconto = (percentual_desconto / 100) * preco_produto\n",
        "\n",
        "# Calcula o preço final com desconto\n",
        "preco_final = preco_produto - valor_desconto\n",
        "\n",
        "# Exibe os resultados\n",
        "print(f\"Valor do desconto: R$ {valor_desconto:.2f}\")\n",
        "print(f\"Preço final com desconto: R$ {preco_final:.2f}\")\n"
      ],
      "metadata": {
        "colab": {
          "base_uri": "https://localhost:8080/"
        },
        "id": "ZnBXNYxFkTx4",
        "outputId": "b996f743-aab3-4dcf-d397-c431301650f1"
      },
      "execution_count": 5,
      "outputs": [
        {
          "output_type": "stream",
          "name": "stdout",
          "text": [
            "Digite o preço do produto: R$ 1000\n",
            "Digite o percentual de desconto desejado: 10\n",
            "Valor do desconto: R$ 100.00\n",
            "Preço final com desconto: R$ 900.00\n"
          ]
        }
      ]
    },
    {
      "cell_type": "markdown",
      "source": [
        "---\n",
        "✅ Parabéns a todos! Vocês progrediram muito neste módulo. Continuem praticando e aprimorando suas habilidades.\n",
        "\n",
        "[Simplifica Treinamentos](https://www.simplificatreinamentos.com.br/)"
      ],
      "metadata": {
        "id": "7HKuMeFognpU"
      }
    }
  ]
}