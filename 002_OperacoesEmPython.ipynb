{
  "nbformat": 4,
  "nbformat_minor": 0,
  "metadata": {
    "colab": {
      "provenance": [],
      "authorship_tag": "ABX9TyOmcE8QKkah5oOjRj1Zg86m",
      "include_colab_link": true
    },
    "kernelspec": {
      "name": "python3",
      "display_name": "Python 3"
    },
    "language_info": {
      "name": "python"
    }
  },
  "cells": [
    {
      "cell_type": "markdown",
      "metadata": {
        "id": "view-in-github",
        "colab_type": "text"
      },
      "source": [
        "<a href=\"https://colab.research.google.com/github/alesauerprof/SimplificaPython/blob/main/002_OperacoesEmPython.ipynb\" target=\"_parent\"><img src=\"https://colab.research.google.com/assets/colab-badge.svg\" alt=\"Open In Colab\"/></a>"
      ]
    },
    {
      "cell_type": "markdown",
      "source": [
        "# Simplifica Python\n",
        "---\n",
        "🤖 **Operações aritméticas em Python**\n",
        "\n",
        "Python é uma linguagem de programação versátil que suporta uma ampla variedade de operações aritméticas para realizar cálculos matemáticos. Nesta aula, você aprenderá sobre as operações aritméticas básicas em Python, juntamente com exemplos práticos.\n",
        "\n",
        "Vamos aprender os seguintes tópicos nesta aula::\n",
        "\n",
        "✔ Adição (+)\n",
        "\n",
        "✔ Subtração (-)\n",
        "\n",
        "✔ Multiplicação (\\*)\n",
        "\n",
        "✔ Divisão (/)\n",
        "\n",
        "✔ Módulo (%)\n",
        "\n",
        "✔ Potência (**)\n",
        "\n",
        "\n"
      ],
      "metadata": {
        "id": "2JZT4w46vTG6"
      }
    },
    {
      "cell_type": "markdown",
      "source": [
        "---\n",
        "***1 - Adição***\n",
        "* A operação de adição é usada para somar dois valores.\n",
        "* Em Python, você pode usar o operador '+' para realizar a adição.\n",
        "* É possível realizar a soma de números reais e inteiros.\n"
      ],
      "metadata": {
        "id": "qlTKcQzU6mFl"
      }
    },
    {
      "cell_type": "code",
      "source": [
        "print(14+3)\n",
        "print(12547+122345453)\n",
        "print(1212.23+1212.54)"
      ],
      "metadata": {
        "colab": {
          "base_uri": "https://localhost:8080/"
        },
        "id": "jxHZZNG8vpWh",
        "outputId": "3d3ad8d8-16cd-4c40-d546-be874553141e"
      },
      "execution_count": null,
      "outputs": [
        {
          "output_type": "stream",
          "name": "stdout",
          "text": [
            "17\n",
            "122358000\n",
            "2424.77\n"
          ]
        }
      ]
    },
    {
      "cell_type": "markdown",
      "source": [
        "---\n",
        "***2 - Subtração***\n",
        "* A operação de subtração é usada para subtrair um valor de outro.\n",
        "* Em Python, você pode usar o operador '-' para realizar a subtração.\n",
        "\n"
      ],
      "metadata": {
        "id": "vcUw2vHb8mvC"
      }
    },
    {
      "cell_type": "code",
      "source": [
        "print(1-2)\n",
        "print(6.5-3)\n",
        "print(10-2)\n",
        "print(0.0034 - 0.0012)"
      ],
      "metadata": {
        "colab": {
          "base_uri": "https://localhost:8080/"
        },
        "id": "3RYOiDo-8elV",
        "outputId": "e298d47e-8992-47b0-b8e3-ab7f5bae5084"
      },
      "execution_count": null,
      "outputs": [
        {
          "output_type": "stream",
          "name": "stdout",
          "text": [
            "-1\n",
            "3.5\n",
            "8\n",
            "0.0021999999999999997\n"
          ]
        }
      ]
    },
    {
      "cell_type": "markdown",
      "source": [
        "---\n",
        "***3 - Multiplicação***\n",
        "* A operação de multiplicação é usada para multiplicar dois valores.\n",
        "* O operador \\* é utilizado para realizar a multiplicação."
      ],
      "metadata": {
        "id": "UzTVlQJS9cuY"
      }
    },
    {
      "cell_type": "code",
      "source": [
        "print(1*2)\n",
        "print(12.7*65.2)\n",
        "print(20*2)\n",
        "print(0.12 * 2.65)"
      ],
      "metadata": {
        "colab": {
          "base_uri": "https://localhost:8080/"
        },
        "outputId": "4ed56093-7c74-4c3e-b95a-28a54cd212d7",
        "id": "vXAEU1gu-R53"
      },
      "execution_count": null,
      "outputs": [
        {
          "output_type": "stream",
          "name": "stdout",
          "text": [
            "2\n",
            "828.04\n",
            "40\n",
            "0.318\n"
          ]
        }
      ]
    },
    {
      "cell_type": "markdown",
      "source": [
        "---\n",
        "***4 - Divisão***\n",
        "* A operação de divisão é usada para dividir um valor pelo outro.\n",
        "* O operador / é utilizado para realizar a divisão."
      ],
      "metadata": {
        "id": "XrbOYqQNGUD0"
      }
    },
    {
      "cell_type": "code",
      "source": [
        "print(15/3)\n",
        "print(20/5)\n",
        "print(21.12/23)"
      ],
      "metadata": {
        "colab": {
          "base_uri": "https://localhost:8080/"
        },
        "id": "y5Z0VcnKG5-D",
        "outputId": "b199a885-fccd-4412-82c4-2b47981123f1"
      },
      "execution_count": 5,
      "outputs": [
        {
          "output_type": "stream",
          "name": "stdout",
          "text": [
            "5.0\n",
            "4.0\n",
            "0.9182608695652175\n"
          ]
        }
      ]
    },
    {
      "cell_type": "markdown",
      "source": [
        "---\n",
        "***5 - Módulo***\n",
        "* A operação de módulo é usada para encontrar o restante da divisão de um número por outro.\n",
        "* Em Python, você pode usar o operador % para calcular o módulo."
      ],
      "metadata": {
        "id": "PI-qQN0deu-P"
      }
    },
    {
      "cell_type": "code",
      "source": [
        "print(20%5)\n",
        "print(30%-2)\n",
        "print(10.54%5)"
      ],
      "metadata": {
        "colab": {
          "base_uri": "https://localhost:8080/"
        },
        "id": "H907H1RKe99R",
        "outputId": "4f08068c-557e-4ca5-a900-ae61fab8ea37"
      },
      "execution_count": 15,
      "outputs": [
        {
          "output_type": "stream",
          "name": "stdout",
          "text": [
            "0\n",
            "0\n",
            "0.5399999999999991\n"
          ]
        }
      ]
    },
    {
      "cell_type": "markdown",
      "source": [
        "---\n",
        "***5 - Potência***\n",
        "* A operação de potência é usada para elevar um número a uma potência.\n",
        "* Em Python, você pode usar o operador ** para calcular a potência. Isso mesmo, são dois asteriscos."
      ],
      "metadata": {
        "id": "0X5HvraE-mLW"
      }
    },
    {
      "cell_type": "code",
      "source": [
        "print(2**3)\n",
        "print(30**-2)\n",
        "print(-2**3)"
      ],
      "metadata": {
        "colab": {
          "base_uri": "https://localhost:8080/"
        },
        "id": "2hoHrdFZ-2g0",
        "outputId": "7ae1c002-1607-4d72-df2a-e5c60170e8d4"
      },
      "execution_count": 17,
      "outputs": [
        {
          "output_type": "stream",
          "name": "stdout",
          "text": [
            "8\n",
            "0.0011111111111111111\n",
            "-8\n"
          ]
        }
      ]
    },
    {
      "cell_type": "markdown",
      "source": [
        "---\n",
        "✅ Lembrem-se de que a programação é uma habilidade valiosa que pode abrir muitas portas em suas carreiras. Continuem se aprimorando!\n",
        "\n",
        "[Simplifica Treinamentos](https://www.simplificatreinamentos.com.br/)"
      ],
      "metadata": {
        "id": "7HKuMeFognpU"
      }
    }
  ]
}