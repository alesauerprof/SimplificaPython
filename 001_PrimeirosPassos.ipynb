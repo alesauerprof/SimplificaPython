{
  "nbformat": 4,
  "nbformat_minor": 0,
  "metadata": {
    "colab": {
      "provenance": [],
      "toc_visible": true,
      "authorship_tag": "ABX9TyM2YCDXNsBbvwQDTUpMfvWc",
      "include_colab_link": true
    },
    "kernelspec": {
      "name": "python3",
      "display_name": "Python 3"
    },
    "language_info": {
      "name": "python"
    }
  },
  "cells": [
    {
      "cell_type": "markdown",
      "metadata": {
        "id": "view-in-github",
        "colab_type": "text"
      },
      "source": [
        "<a href=\"https://colab.research.google.com/github/alesauerprof/SimplificaPython/blob/main/001_PrimeirosPassos.ipynb\" target=\"_parent\"><img src=\"https://colab.research.google.com/assets/colab-badge.svg\" alt=\"Open In Colab\"/></a>"
      ]
    },
    {
      "cell_type": "markdown",
      "source": [
        "# Simplifica Python\n",
        "---\n",
        "🤖 **Primeiro Programa em Python**\n",
        "\n",
        "Vamos aprender os seguintes tópicos nesta aula::\n",
        "\n",
        "✅ Utilização do comando print;\n",
        "\n",
        "✅ Como fazer comentários em python.\n",
        "\n"
      ],
      "metadata": {
        "id": "2JZT4w46vTG6"
      }
    },
    {
      "cell_type": "markdown",
      "source": [
        "---\n",
        "***1 - Imprimir uma mensagem na tela***\n",
        "* Usamos o comando **print** para exibir informações na tela.\n",
        "* O código abaixo irá imprimir a mensagem: **Olá, pythonistas** na tela.\n",
        "* Para imprimir um texto na tela, é necessário que o texto esteja dentro de **aspas duplas** ou **aspas simples**.\n",
        "\n"
      ],
      "metadata": {
        "id": "qlTKcQzU6mFl"
      }
    },
    {
      "cell_type": "code",
      "source": [
        "print(\"Olá, Pythonistas!\")"
      ],
      "metadata": {
        "colab": {
          "base_uri": "https://localhost:8080/"
        },
        "id": "Vv0EUz8zZcwS",
        "outputId": "c04c6b65-d7d2-4349-e7b9-c2480ac50367"
      },
      "execution_count": 1,
      "outputs": [
        {
          "output_type": "stream",
          "name": "stdout",
          "text": [
            "Olá, Pythonistas!\n"
          ]
        }
      ]
    },
    {
      "cell_type": "markdown",
      "source": [
        "**2 - Imprimir operações aritméticas na tela**\n",
        "\n",
        "O código a seguir tem a finalidade de exibir na tela o resultado de operações aritméticas.\n",
        "\n",
        "Para realizar essa operação, não é necessário que a operação esteja entre aspas duplas ou aspas simples."
      ],
      "metadata": {
        "id": "6V2iTG__ZqHA"
      }
    },
    {
      "cell_type": "code",
      "source": [
        "print(1+2)\n",
        "print(10-3)\n",
        "print(3*5)\n",
        "print(10/2)"
      ],
      "metadata": {
        "colab": {
          "base_uri": "https://localhost:8080/"
        },
        "id": "Ud00S431Zx9t",
        "outputId": "4c8bad1c-db8d-4bc6-cda0-60270d833663"
      },
      "execution_count": 2,
      "outputs": [
        {
          "output_type": "stream",
          "name": "stdout",
          "text": [
            "3\n",
            "7\n",
            "15\n",
            "5.0\n"
          ]
        }
      ]
    },
    {
      "cell_type": "markdown",
      "source": [
        "**3 - É possível adicionar comentários no código, usando o caracter #**\n",
        "\n",
        "Vejamos o mesmo código que foi escrito acima comentado.\n",
        "\n",
        "É necessário utilizar o caracter # na frente do comentário que gostaria de adicionar ao código."
      ],
      "metadata": {
        "id": "yEDdnIg9Z2vz"
      }
    },
    {
      "cell_type": "code",
      "source": [
        "#Esse comando irá realizar a operação 1+2. A saída do comando será o valor 3.\n",
        "print(1+2)\n",
        "#Esse comando irá realizar a operação 10-3. A saída do comando será o valor 7.\n",
        "print(10-3)\n",
        "#Esse comando irá realizar a operação 3*5. A saída do comando será o valor 15.\n",
        "print(3*5)\n",
        "#Esse comando irá realizar a operação 10/2. A saída do comando será o valor 5.\n",
        "print(10/2)"
      ],
      "metadata": {
        "colab": {
          "base_uri": "https://localhost:8080/"
        },
        "id": "SQIyiUfKZ7u9",
        "outputId": "7da20bb4-f704-4a07-c48a-287819435c72"
      },
      "execution_count": 3,
      "outputs": [
        {
          "output_type": "stream",
          "name": "stdout",
          "text": [
            "3\n",
            "7\n",
            "15\n",
            "5.0\n"
          ]
        }
      ]
    },
    {
      "cell_type": "markdown",
      "source": [
        "**4 - Existem também os comentários em bloco, que são úteis para adicionar um comentário mais detalhado ao código.**\n",
        "\n",
        "Os comentários em bloco são utilizados para documentar múltiplas linhas de código.\n",
        "\n",
        "É possível criar um comentário em bloco utilizando três aspas duplas (\"\"\") ou três aspas simples (''').\n",
        "\n",
        "Por fim, é importante lembrar de encerrar o comentário em bloco com o mesmo número de aspas no final."
      ],
      "metadata": {
        "id": "-1ZqdIfjaAyz"
      }
    },
    {
      "cell_type": "code",
      "source": [
        "'''\n",
        "Programa que imprime na tela a\n",
        "mensagem: Olá, Phytonistas!!\n",
        "'''\n",
        "\n",
        "print(\"Olá, Phytonistas!\")"
      ],
      "metadata": {
        "colab": {
          "base_uri": "https://localhost:8080/"
        },
        "id": "9GFruoGmaFNI",
        "outputId": "84f966f4-a3da-4187-d176-7be0d9ee6f80"
      },
      "execution_count": 4,
      "outputs": [
        {
          "output_type": "stream",
          "name": "stdout",
          "text": [
            "Olá, Phytonistas!\n"
          ]
        }
      ]
    },
    {
      "cell_type": "markdown",
      "source": [
        "**5 - Código final do que aprendemos**\n",
        "\n",
        "Os comentários em bloco são utilizados para documentar múltiplas linhas de código.\n",
        "\n",
        "É possível criar um comentário em bloco utilizando três aspas duplas (\"\"\") ou três aspas simples (''').\n",
        "\n",
        "Por fim, é importante lembrar de encerrar o comentário em bloco com o mesmo número de aspas no final."
      ],
      "metadata": {
        "id": "p_DWIpW-aLGA"
      }
    },
    {
      "cell_type": "code",
      "source": [
        "# Comando print que imprime na tela a mensagem \"Bem-vindos!\". Nesse exemplo utilizamos aspas duplas dentro dos parênteses do comando print para mostrar a mensagem.\n",
        "print(\"Bem-vindos!\")\n",
        "\n",
        "# Comando print que imprime na tela a mensagem \"Phytonistas!\". Nesse exemplo utilizamos aspas simples dentro dos parênteses do comando print para mostrar a mensagem.\n",
        "print('Pythonistas')\n",
        "\n",
        "# Comando print que imprime na tela a operação aritmética. Não é necessário a operação estar ente aspas duplas ou simples. Basta apenas estar dentro dos parênteses do comando print\n",
        "print(10*5)"
      ],
      "metadata": {
        "colab": {
          "base_uri": "https://localhost:8080/"
        },
        "id": "cUybkJx7aPuv",
        "outputId": "0b56d9e5-860b-4614-c5d3-d60ce73bea3a"
      },
      "execution_count": 5,
      "outputs": [
        {
          "output_type": "stream",
          "name": "stdout",
          "text": [
            "Bem-vindos!\n",
            "Pythonistas\n",
            "50\n"
          ]
        }
      ]
    },
    {
      "cell_type": "markdown",
      "source": [
        "✅ Encerramos mais uma aula, mas sua jornada na programação está apenas começando. Continue se desafiando e sonhando alto.\n",
        "\n",
        "[Simplifica Treinamentos](https://simplificatreinamentos.com.br)"
      ],
      "metadata": {
        "id": "5FGu-NCiaS0r"
      }
    }
  ]
}