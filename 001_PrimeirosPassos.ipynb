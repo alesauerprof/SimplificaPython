{
  "nbformat": 4,
  "nbformat_minor": 0,
  "metadata": {
    "colab": {
      "provenance": [],
      "authorship_tag": "ABX9TyOXaHjhfgeyYBKrip0qSCbW",
      "include_colab_link": true
    },
    "kernelspec": {
      "name": "python3",
      "display_name": "Python 3"
    },
    "language_info": {
      "name": "python"
    }
  },
  "cells": [
    {
      "cell_type": "markdown",
      "metadata": {
        "id": "view-in-github",
        "colab_type": "text"
      },
      "source": [
        "<a href=\"https://colab.research.google.com/github/alesauerprof/SimplificaPython/blob/main/001_PrimeirosPassos.ipynb\" target=\"_parent\"><img src=\"https://colab.research.google.com/assets/colab-badge.svg\" alt=\"Open In Colab\"/></a>"
      ]
    },
    {
      "cell_type": "markdown",
      "source": [
        "# Simplifica Python\n",
        "---\n",
        "🤖 **Primeiro Programa em Python**\n",
        "\n",
        "Vamos aprender os seguintes tópicos nesta aula::\n",
        "\n",
        "✅ Utilização do comando print;\n",
        "\n",
        "✅ Como fazer comentários em python.\n",
        "\n"
      ],
      "metadata": {
        "id": "2JZT4w46vTG6"
      }
    },
    {
      "cell_type": "markdown",
      "source": [
        "---\n",
        "***1 - Imprimir uma mensagem na tela***\n",
        "* Usamos o comando **print** para exibir informações na tela.\n",
        "* O código abaixo irá imprimir a mensagem: **Olá, pythonistas** na tela.\n",
        "* Para imprimir um texto na tela, é necessário que o texto esteja dentro de aspas duplas ou aspas simples.\n",
        "\n"
      ],
      "metadata": {
        "id": "qlTKcQzU6mFl"
      }
    },
    {
      "cell_type": "code",
      "source": [
        "print(\"Olá,  Pythonistas\")"
      ],
      "metadata": {
        "colab": {
          "base_uri": "https://localhost:8080/"
        },
        "id": "jxHZZNG8vpWh",
        "outputId": "5f5dfd03-8e50-4481-917f-6e709e58d943"
      },
      "execution_count": null,
      "outputs": [
        {
          "output_type": "stream",
          "name": "stdout",
          "text": [
            "Olá,  Pythonistas\n"
          ]
        }
      ]
    },
    {
      "cell_type": "markdown",
      "source": [
        "---\n",
        "***2 - Imprimir operações aritméticas na tela***\n",
        "* O código a seguir tem a finalidade de exibir na tela o resultado de operações aritméticas.\n",
        "* Para realizar essa operação, **não** é necessário que a operação esteja entre aspas duplas ou aspas simples.\n",
        "\n"
      ],
      "metadata": {
        "id": "vcUw2vHb8mvC"
      }
    },
    {
      "cell_type": "code",
      "source": [
        "print(1+2)\n",
        "print(10-3)\n",
        "print(3*5)\n",
        "print(10/2)"
      ],
      "metadata": {
        "colab": {
          "base_uri": "https://localhost:8080/"
        },
        "id": "3RYOiDo-8elV",
        "outputId": "831a16b1-4521-4126-ab4b-062b393371b0"
      },
      "execution_count": null,
      "outputs": [
        {
          "output_type": "stream",
          "name": "stdout",
          "text": [
            "3\n",
            "7\n",
            "15\n",
            "5.0\n"
          ]
        }
      ]
    },
    {
      "cell_type": "markdown",
      "source": [
        "---\n",
        "***3 - É possível adicionar comentários no código, usando o caracter #***\n",
        "* Vejamos o mesmo código que foi escrito acima comentado.\n",
        "* É necessário utilizar o caracter **#** na frente do comentário que gostaria de adicionar ao código."
      ],
      "metadata": {
        "id": "UzTVlQJS9cuY"
      }
    },
    {
      "cell_type": "code",
      "source": [
        "#Esse comando irá realizar a operação 1+2. A saída do comando será o valor 3.\n",
        "print(1+2)\n",
        "#Esse comando irá realizar a operação 10-3. A saída do comando será o valor 7.\n",
        "print(10-3)\n",
        "#Esse comando irá realizar a operação 3*5. A saída do comando será o valor 15.\n",
        "print(3*5)\n",
        "#Esse comando irá realizar a operação 10/2. A saída do comando será o valor 5.\n",
        "print(10/2)"
      ],
      "metadata": {
        "colab": {
          "base_uri": "https://localhost:8080/"
        },
        "outputId": "19e6e6cf-10c9-4a30-e9e2-71ea36d5d952",
        "id": "vXAEU1gu-R53"
      },
      "execution_count": null,
      "outputs": [
        {
          "output_type": "stream",
          "name": "stdout",
          "text": [
            "3\n",
            "7\n",
            "15\n",
            "5.0\n"
          ]
        }
      ]
    },
    {
      "cell_type": "markdown",
      "source": [
        "---\n",
        "***4 - Existem também os comentários em bloco, que são úteis para adicionar um comentário mais detalhado ao código. ***\n",
        "* Os comentários em bloco são utilizados para documentar múltiplas linhas de código.\n",
        "* É possível criar um comentário em bloco utilizando três aspas duplas (\"\"\") ou três aspas simples (''').\n",
        "* Por fim, é importante lembrar de encerrar o comentário em bloco com o mesmo número de aspas no final."
      ],
      "metadata": {
        "id": "XrbOYqQNGUD0"
      }
    },
    {
      "cell_type": "code",
      "source": [
        "'''\n",
        "Programa que imprime na tela a\n",
        "mensagem: Olá, Phytonistas!!\n",
        "'''\n",
        "\n",
        "print(\"Olá, Phytonistas!\")"
      ],
      "metadata": {
        "colab": {
          "base_uri": "https://localhost:8080/"
        },
        "id": "y5Z0VcnKG5-D",
        "outputId": "359130f8-44d6-4058-e6f9-0efa3cacacbc"
      },
      "execution_count": null,
      "outputs": [
        {
          "output_type": "stream",
          "name": "stdout",
          "text": [
            "Olá, Phytonistas!\n"
          ]
        }
      ]
    },
    {
      "cell_type": "markdown",
      "source": [
        "---\n",
        "***5 - Código final do que aprendemos ***\n",
        "\n",
        "* Os comentários em bloco são utilizados para documentar múltiplas linhas de código.\n",
        "* É possível criar um comentário em bloco utilizando três aspas duplas (\"\"\") ou três aspas simples (''').\n",
        "* Por fim, é importante lembrar de encerrar o comentário em bloco com o mesmo número de aspas no final."
      ],
      "metadata": {
        "id": "PI-qQN0deu-P"
      }
    },
    {
      "cell_type": "code",
      "source": [
        "# Comando print que imprime na tela a mensagem \"Bem-vindos!\". Nesse exemplo utilizamos aspas duplas dentro dos parênteses do comando print para mostrar a mensagem.\n",
        "print(\"Bem-vindos!\")\n",
        "\n",
        "# Comando print que imprime na tela a mensagem \"Phytonistas!\". Nesse exemplo utilizamos aspas simples dentro dos parênteses do comando print para mostrar a mensagem.\n",
        "print('Pythonistas')\n",
        "\n",
        "# Comando print que imprime na tela a operação aritmética. Não é necessário a operação estar ente aspas duplas ou simples. Basta apenas estar dentro dos parênteses do comando print\n",
        "print(10*5)"
      ],
      "metadata": {
        "colab": {
          "base_uri": "https://localhost:8080/"
        },
        "id": "H907H1RKe99R",
        "outputId": "f45c4dd7-d1e8-427f-c017-2b7b034e9d88"
      },
      "execution_count": null,
      "outputs": [
        {
          "output_type": "stream",
          "name": "stdout",
          "text": [
            "Bem-vindos!\n",
            "Pythonistas\n",
            "50\n"
          ]
        }
      ]
    },
    {
      "cell_type": "markdown",
      "source": [
        "---\n",
        "✅ Encerramos mais uma aula, mas sua jornada na programação está apenas começando. Continue se desafiando e sonhando alto.\n",
        "\n",
        "[Simplifica Treinamentos](https://www.simplificatreinamentos.com.br/)"
      ],
      "metadata": {
        "id": "7HKuMeFognpU"
      }
    }
  ]
}