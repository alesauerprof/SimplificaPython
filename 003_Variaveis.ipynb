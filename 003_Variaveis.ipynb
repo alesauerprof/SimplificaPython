{
  "nbformat": 4,
  "nbformat_minor": 0,
  "metadata": {
    "colab": {
      "provenance": [],
      "authorship_tag": "ABX9TyOTkMiJedm0A/Q+ZdYFIqAH",
      "include_colab_link": true
    },
    "kernelspec": {
      "name": "python3",
      "display_name": "Python 3"
    },
    "language_info": {
      "name": "python"
    }
  },
  "cells": [
    {
      "cell_type": "markdown",
      "metadata": {
        "id": "view-in-github",
        "colab_type": "text"
      },
      "source": [
        "<a href=\"https://colab.research.google.com/github/alesauerprof/SimplificaPython/blob/main/003_Variaveis.ipynb\" target=\"_parent\"><img src=\"https://colab.research.google.com/assets/colab-badge.svg\" alt=\"Open In Colab\"/></a>"
      ]
    },
    {
      "cell_type": "markdown",
      "source": [
        "# Simplifica Python\n",
        "---\n",
        "🤖 **Variáveis - Parte 01**\n",
        "\n",
        "Variáveis são recursos poderosos de linguagens de programação que possibilita o armazenamento e a manipulação de dados. Essas variáveis são **recipientes** que podem conter diversos tipos de dados, como números, textos, listas, entre outros. Neste tutorial, será ensinado como declarar variáveis, atribuir valores a elas e compreender os diferentes tipos de dados suportados pela linguagem Python..\n",
        "\n",
        "Vamos aprender os seguintes tópicos nesta aula::\n",
        "\n",
        "✔ Declarando variáveis\n",
        "\n",
        "✔ Tipo de Dados em Python\n",
        "\n",
        "✔ Atribuindo valores a variáveis\n",
        "\n",
        "✔ Acessando valores a variáveis\n",
        "\n",
        "✔ Concatenação de strings\n",
        "\n",
        "✔ Conversão de tipos\n",
        "\n",
        "✔ Conclusões"
      ],
      "metadata": {
        "id": "2JZT4w46vTG6"
      }
    },
    {
      "cell_type": "markdown",
      "source": [
        "---\n",
        "***1 - Declaração de Variáveis***\n",
        "\n",
        "**1.1 Atribuição de Valor**\n",
        "* Em Python, você não precisa declarar o tipo de uma variável explicitamente. O interpretador Python identifica automaticamente o tipo de dados com base no valor atribuído à variável.\n",
        "* Para declarar uma variável, basta dar um nome a ela e atribuir um valor usando o operador de atribuição =.\n"
      ],
      "metadata": {
        "id": "qlTKcQzU6mFl"
      }
    },
    {
      "cell_type": "code",
      "source": [
        "numero = 42\n",
        "nome = \"Alice Castro\""
      ],
      "metadata": {
        "id": "jxHZZNG8vpWh"
      },
      "execution_count": null,
      "outputs": []
    },
    {
      "cell_type": "markdown",
      "source": [
        "Nesse exemplo:\n",
        "\n",
        "* **numero** é uma variável que contém/guarda um número inteiro (int)\n",
        "* **nome** é uma variável que contém/guarda uma(s) palavra(s) que chamamos de string(str)"
      ],
      "metadata": {
        "id": "M9qcdNjCDT9z"
      }
    },
    {
      "cell_type": "markdown",
      "source": [
        "Vamos analisar um outro exemplo:"
      ],
      "metadata": {
        "id": "Bkrm-yNzF0IK"
      }
    },
    {
      "cell_type": "code",
      "source": [
        "nome = \"Alexandre Sauer\"\n",
        "idade = 26\n",
        "altura = 1.84\n",
        "\n",
        "print(nome, idade, altura)\n"
      ],
      "metadata": {
        "colab": {
          "base_uri": "https://localhost:8080/"
        },
        "id": "waOzOkqTF5Hr",
        "outputId": "8f204c13-b829-4625-cd0c-4e7f65f62575"
      },
      "execution_count": null,
      "outputs": [
        {
          "output_type": "stream",
          "name": "stdout",
          "text": [
            "Alexandre Sauer 26 1.84\n"
          ]
        }
      ]
    },
    {
      "cell_type": "markdown",
      "source": [
        "Nesse exemplo:\n",
        "\n",
        "* Declaramos a variável **nome** que guarda a string **Alexandre Sauer**.\n",
        "* Declaramos a variável **idade** que guarda o inteiro **26**.\n",
        "* Declaramos a variável **altura** que guarda o número real **1.84**.\n",
        "\n",
        "* Por fim, **imprimimos** os valores guardados nas variáveis usando o comando print. Como fizemos isso? Colocamos dentro dos parenteses do comando o nome das variáveis, separadas por vígula (,).\n",
        "\n",
        "ℹ Quando se define uma nova variável, chamamos isso de **declaração de variável**.\n",
        "\n"
      ],
      "metadata": {
        "id": "QLObVTyoGQpM"
      }
    },
    {
      "cell_type": "markdown",
      "source": [
        "**1.2 Tipagem Dinâmica**\n",
        "\n",
        "* O Python permite que você altere o valor de uma variável a qualquer momento, e o tipo da variável se adapta automaticamente ao novo valor, seja o valor sendo um número intereiro, uma string(palavra), um número real, etc. Veja o exemplo abaixo:"
      ],
      "metadata": {
        "id": "r3PBbDExD6eF"
      }
    },
    {
      "cell_type": "code",
      "source": [
        "numero = 42\n",
        "numero = \"quarenta e dois\""
      ],
      "metadata": {
        "id": "PUR7PHzREasV"
      },
      "execution_count": null,
      "outputs": []
    },
    {
      "cell_type": "markdown",
      "source": [
        "Na primeira linha a variável **numero** inicialmente continha um valor *inteiro* (42). Na segunda linha do código foi atribuído a essa variável um valor do tipo *string* (quarenta e dois).\n",
        "\n",
        "ℹ Quando uma variável em uma linguagem de programação tem a capacidade de receber tipos de dados diferentes (inteiro, string, real, outros), chamamos isso de tipagem dinâmica."
      ],
      "metadata": {
        "id": "OIetAMtWEfur"
      }
    },
    {
      "cell_type": "markdown",
      "source": [
        "---\n",
        "**1.2.1 - Verificação de Tipo Dinâmica**\n",
        "* Você pode verificar o tipo de uma variável usando o comando **type()**. Por exemplo:\n",
        "\n"
      ],
      "metadata": {
        "id": "vcUw2vHb8mvC"
      }
    },
    {
      "cell_type": "code",
      "source": [
        "x = 5\n",
        "print(type(x))\n",
        "\n",
        "y = \"Casa\"\n",
        "print(type(y))\n",
        "\n",
        "z = 1.5341\n",
        "print(type(z))\n"
      ],
      "metadata": {
        "colab": {
          "base_uri": "https://localhost:8080/"
        },
        "id": "3RYOiDo-8elV",
        "outputId": "721b3033-17d4-475b-d171-28f529e3534b"
      },
      "execution_count": null,
      "outputs": [
        {
          "output_type": "stream",
          "name": "stdout",
          "text": [
            "<class 'int'>\n",
            "<class 'str'>\n",
            "<class 'float'>\n"
          ]
        }
      ]
    },
    {
      "cell_type": "markdown",
      "source": [
        "Explicação:\n",
        "\n",
        "* Na primeira linha a variável **x** recebe um valor *inteiro* (5).\n",
        "* Na segunda linha usamos o comando **print** para imprimir algum valor, porém dentro do comando **print** adicionamos o comando **type** que permite exibir qual o tipo de dados atual é uma variável.\n",
        "* Observe que a saída do programa é ***<class 'int'>***. Isso quer dizer que a variável x é do tipo inteiro.\n",
        "\n",
        "\n",
        "* Se observarmos no exemplo, a variável **y** é do tipo str (string) e a variável **z** é do tipo float (números reais com casas decimais.)\n",
        "\n",
        "\n",
        "ℹ O uso do comando **type** se faz necessário quando precisamos de saber qual o tipo da variável."
      ],
      "metadata": {
        "id": "LaudRzXsM4YN"
      }
    },
    {
      "cell_type": "markdown",
      "source": [
        "---\n",
        "**2 - Tipos de Dados**\n",
        "O Python oferece suporte a vários tipos de dados para que você possa armazenar e manipular diferentes tipos de informações em suas variáveis.\n",
        "Alguns dos tipos de dados mais comuns suportados pelo Python incluem:\n",
        "\n",
        "* Inteiros (int): Representam números inteiros. Por exemplo, x = 5.\n",
        "* Números de Ponto Flutuante (float): Representam números com casas decimais. Por exemplo, y = 3.14.\n",
        "* Cadeias de Caracteres (str): Armazenam texto. Por exemplo, nome = \"Alice\".\n",
        "* Booleanos (bool): Representam valores lógicos Verdadeiro (True) ou Falso (False).\n",
        "* None: Representa a ausência de valor ou a falta de um valor. É frequentemente usado para inicializar variáveis ou indicar a falta de retorno em funções.\n",
        "\n",
        "Existem ainda outros tipos de dados suportados pelo Python, como\n",
        "*Listas, tuplas, dicionários e conjuntos*.Esses tipos de dados iremos estudar mais pra frente.\n",
        "\n",
        "**Exemplo:**"
      ],
      "metadata": {
        "id": "dg1fxTO-E-Yi"
      }
    },
    {
      "cell_type": "code",
      "source": [
        "# Exemplo de variáveis em Python\n",
        "\n",
        "# Inteiros (int)\n",
        "idade = 30\n",
        "\n",
        "# Números de Ponto Flutuante (float)\n",
        "altura = 1.75\n",
        "\n",
        "# Cadeias de Caracteres (str)\n",
        "nome = \"Alice\"\n",
        "\n",
        "# Listas (list)\n",
        "numeros = [1, 2, 3, 4, 5]\n",
        "\n",
        "# Tuplas (tuple)\n",
        "coordenadas = (4, 5)\n",
        "\n",
        "# Dicionários (dict)\n",
        "pessoa = {\"nome\": \"Bob\", \"idade\": 30, \"cidade\": \"São Paulo\"}\n",
        "\n",
        "# Conjuntos (set)\n",
        "cores = {\"vermelho\", \"verde\", \"azul\"}\n",
        "\n",
        "# Booleanos (bool)\n",
        "verdadeiro = True\n",
        "falso = False\n",
        "\n",
        "# None\n",
        "valor_nulo = None\n",
        "\n",
        "# Impressão de valores para verificação\n",
        "print(idade)\n",
        "print(altura)\n",
        "print(nome)\n",
        "print(numeros)\n",
        "print(coordenadas)\n",
        "print(pessoa)\n",
        "print(cores)\n",
        "print(verdadeiro)\n",
        "print(falso)\n",
        "print(valor_nulo)\n"
      ],
      "metadata": {
        "colab": {
          "base_uri": "https://localhost:8080/"
        },
        "id": "lqhE0yAwGwb8",
        "outputId": "66411bfc-a21f-4e82-8928-4c407cfd5eab"
      },
      "execution_count": 1,
      "outputs": [
        {
          "output_type": "stream",
          "name": "stdout",
          "text": [
            "30\n",
            "1.75\n",
            "Alice\n",
            "[1, 2, 3, 4, 5]\n",
            "(4, 5)\n",
            "{'nome': 'Bob', 'idade': 30, 'cidade': 'São Paulo'}\n",
            "{'vermelho', 'verde', 'azul'}\n",
            "True\n",
            "False\n",
            "None\n"
          ]
        }
      ]
    },
    {
      "cell_type": "markdown",
      "source": [
        "---\n",
        "**3 - Exercício**\n",
        "* Vamos praticar um pouco sobre variáveis, tipos e atribuição.\n",
        "* Perceba as possibilidades de utilização do comando print para imprimir os valores das variáveis:\n",
        "\n"
      ],
      "metadata": {
        "id": "WkYCUYkUpo2h"
      }
    },
    {
      "cell_type": "code",
      "source": [
        "# Passos para criar uma variável\n",
        "# 1-Pensar no nome da variável\n",
        "# 2-Escrever o nome da variável atribuindo um determinado valor a ela.\n",
        "\n",
        "print(\"\\t\\tImprimindo valores em Variáveis!!\\n\\n\")\n",
        "\n",
        "# Criando a variável nome, do tipo str e atribuindo o valor Alexandre Sauer a esse variavel.\n",
        "nome = \"Alexandre Sauer\"\n",
        "print (\"Seu nome: \",nome)\n",
        "print(\"Seu nome: nome\") #Forma errada. Nesse sintaxe, não será impresso na tela o conteúdo armazenado na variável. Veja a saída.\n",
        "print(\"O tipo da variável nome é: \", type(nome),\"\\n\")\n",
        "\n",
        "\n",
        "\n",
        "# Criando a variável idade, do tipo inteiro e atribuindo o valor 39 a essa variável.\n",
        "idade = 39\n",
        "print(\"Sua idade: \",idade)\n",
        "print(\"O tipo da variável idade é: \", type(idade),\"\\n\")\n",
        "\n",
        "#Agora guardando o valor 29 na variável idade\n",
        "idade = 29\n",
        "print(\"Agora sua idade é: \",idade)\n",
        "\n",
        "# Criando a variável altura e atribuindo o valor real 1.85\n",
        "altura = 1.85\n",
        "print(\"Sua altura:\", altura)\n",
        "print(\"O tipo da variável altura é: \", type(idade))"
      ],
      "metadata": {
        "colab": {
          "base_uri": "https://localhost:8080/"
        },
        "id": "FABJgdttieBj",
        "outputId": "30bca57c-dabc-4e78-d6e5-4e3908811699"
      },
      "execution_count": null,
      "outputs": [
        {
          "output_type": "stream",
          "name": "stdout",
          "text": [
            "\t\tImprimindo valores em Variáveis!!\n",
            "\n",
            "\n",
            "Seu nome:  Alexandre Sauer\n",
            "Seu nome: nome\n",
            "O tipo da variável nome é:  <class 'str'> \n",
            "\n",
            "Sua idade:  39\n",
            "O tipo da variável idade é:  <class 'int'> \n",
            "\n",
            "Agora sua idade é:  29\n",
            "Sua altura: 1.85\n",
            "O tipo da variável altura é:  <class 'int'>\n"
          ]
        }
      ]
    },
    {
      "cell_type": "markdown",
      "source": [
        "---\n",
        "✅ Se tiverem dúvidas adicionais ou precisarem de assistência com seus projetos, não hesitem em entrar em contato. Estou aqui para ajudar.\n",
        "\n",
        "[Simplifica Treinamentos](https://www.simplificatreinamentos.com.br/)"
      ],
      "metadata": {
        "id": "7HKuMeFognpU"
      }
    },
    {
      "cell_type": "code",
      "source": [
        "\n"
      ],
      "metadata": {
        "id": "AxVqBPylm0Le"
      },
      "execution_count": null,
      "outputs": []
    }
  ]
}