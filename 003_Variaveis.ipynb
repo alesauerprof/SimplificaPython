{
  "nbformat": 4,
  "nbformat_minor": 0,
  "metadata": {
    "colab": {
      "provenance": [],
      "authorship_tag": "ABX9TyNa3v4+nMGxgWj1BdtLoO3d",
      "include_colab_link": true
    },
    "kernelspec": {
      "name": "python3",
      "display_name": "Python 3"
    },
    "language_info": {
      "name": "python"
    }
  },
  "cells": [
    {
      "cell_type": "markdown",
      "metadata": {
        "id": "view-in-github",
        "colab_type": "text"
      },
      "source": [
        "<a href=\"https://colab.research.google.com/github/alesauerprof/SimplificaPython/blob/main/003_Variaveis.ipynb\" target=\"_parent\"><img src=\"https://colab.research.google.com/assets/colab-badge.svg\" alt=\"Open In Colab\"/></a>"
      ]
    },
    {
      "cell_type": "markdown",
      "source": [
        "# Simplifica Python\n",
        "---\n",
        "🤖 **Variáveis**\n",
        "\n",
        "Variáveis são recursos poderosos de linguagens de programação que possibilita o armazenamento e a manipulação de dados. Essas variáveis são **recipientes** que podem conter diversos tipos de dados, como números, textos, listas, entre outros. Neste tutorial, será ensinado como declarar variáveis, atribuir valores a elas e compreender os diferentes tipos de dados suportados pela linguagem Python..\n",
        "\n",
        "Vamos aprender os seguintes tópicos nesta aula::\n",
        "\n",
        "✔ Declarando variáveis\n",
        "\n",
        "✔ Tipo de Dados em Python\n",
        "\n",
        "✔ Atribuindo valores a variáveis\n",
        "\n",
        "✔ Acessando valores a variáveis\n",
        "\n",
        "✔ Concatenação de strings\n",
        "\n",
        "✔ Conversão de tipos\n",
        "\n",
        "✔ Conclusões"
      ],
      "metadata": {
        "id": "2JZT4w46vTG6"
      }
    },
    {
      "cell_type": "markdown",
      "source": [
        "---\n",
        "***1 - Declaração de Variáveis***\n",
        "\n",
        "**1.1 Atribuição de Valor**\n",
        "* Em Python, você não precisa declarar o tipo de uma variável explicitamente. O interpretador Python identifica automaticamente o tipo de dados com base no valor atribuído à variável.\n",
        "* Para declarar uma variável, basta dar um nome a ela e atribuir um valor usando o operador de atribuição =.\n"
      ],
      "metadata": {
        "id": "qlTKcQzU6mFl"
      }
    },
    {
      "cell_type": "code",
      "source": [
        "numero = 42\n",
        "nome = \"Alice Castro\""
      ],
      "metadata": {
        "id": "jxHZZNG8vpWh"
      },
      "execution_count": 9,
      "outputs": []
    },
    {
      "cell_type": "markdown",
      "source": [
        "Nesse exemplo:\n",
        "\n",
        "* **numero** é uma variável que contém/guarda um número inteiro (int)\n",
        "* **nome** é uma variável que contém/guarda uma(s) palavra(s) que chamamos de string(str)"
      ],
      "metadata": {
        "id": "M9qcdNjCDT9z"
      }
    },
    {
      "cell_type": "markdown",
      "source": [
        "Vamos analisar um outro exemplo:"
      ],
      "metadata": {
        "id": "Bkrm-yNzF0IK"
      }
    },
    {
      "cell_type": "code",
      "source": [
        "nome = \"Alexandre Sauer\"\n",
        "idade = 26\n",
        "altura = 1.84\n",
        "\n",
        "print(nome, idade, altura)\n"
      ],
      "metadata": {
        "colab": {
          "base_uri": "https://localhost:8080/"
        },
        "id": "waOzOkqTF5Hr",
        "outputId": "8f204c13-b829-4625-cd0c-4e7f65f62575"
      },
      "execution_count": 6,
      "outputs": [
        {
          "output_type": "stream",
          "name": "stdout",
          "text": [
            "Alexandre Sauer 26 1.84\n"
          ]
        }
      ]
    },
    {
      "cell_type": "markdown",
      "source": [
        "Nesse exemplo:\n",
        "\n",
        "* Declaramos a variável **nome** que guarda a string **Alexandre Sauer**.\n",
        "* Declaramos a variável **idade** que guarda o inteiro **26**.\n",
        "* Declaramos a variável **altura** que guarda o número real **1.84**.\n",
        "\n",
        "* Por fim, **imprimimos** os valores guardados nas variáveis usando o comando print. Como fizemos isso? Colocamos dentro dos parenteses do comando o nome das variáveis, separadas por vígula (,).\n",
        "\n",
        "ℹ Quando se define uma nova variável, chamamos isso de **declaração de variável**.\n",
        "\n"
      ],
      "metadata": {
        "id": "QLObVTyoGQpM"
      }
    },
    {
      "cell_type": "markdown",
      "source": [
        "**1.2 Tipagem Dinâmica**\n",
        "\n",
        "* O Python permite que você altere o valor de uma variável a qualquer momento, e o tipo da variável se adapta automaticamente ao novo valor, seja o valor sendo um número intereiro, uma string(palavra), um número real, etc. Veja o exemplo abaixo:"
      ],
      "metadata": {
        "id": "r3PBbDExD6eF"
      }
    },
    {
      "cell_type": "code",
      "source": [
        "numero = 42\n",
        "numero = \"quarenta e dois\""
      ],
      "metadata": {
        "id": "PUR7PHzREasV"
      },
      "execution_count": 11,
      "outputs": []
    },
    {
      "cell_type": "markdown",
      "source": [
        "Na primeira linha a variável **numero** inicialmente continha um valor *inteiro* (42). Na segunda linha do código foi atribuído a essa variável um valor do tipo *string* (quarenta e dois).\n",
        "\n",
        "ℹ Quando uma variável em uma linguagem de programação tem a capacidade de receber tipos de dados diferentes (inteiro, string, real, outros), chamamos isso de tipagem dinâmica."
      ],
      "metadata": {
        "id": "OIetAMtWEfur"
      }
    },
    {
      "cell_type": "markdown",
      "source": [
        "---\n",
        "**1.2.1 - Verificação de Tipo Dinâmica**\n",
        "* Você pode verificar o tipo de uma variável usando o comando **type()**. Por exemplo:\n",
        "\n"
      ],
      "metadata": {
        "id": "vcUw2vHb8mvC"
      }
    },
    {
      "cell_type": "code",
      "source": [
        "x = 5\n",
        "print(type(x))\n",
        "\n",
        "y = \"Casa\"\n",
        "print(type(y))\n",
        "\n",
        "z = 1.5341\n",
        "print(type(z))\n"
      ],
      "metadata": {
        "colab": {
          "base_uri": "https://localhost:8080/"
        },
        "id": "3RYOiDo-8elV",
        "outputId": "721b3033-17d4-475b-d171-28f529e3534b"
      },
      "execution_count": 16,
      "outputs": [
        {
          "output_type": "stream",
          "name": "stdout",
          "text": [
            "<class 'int'>\n",
            "<class 'str'>\n",
            "<class 'float'>\n"
          ]
        }
      ]
    },
    {
      "cell_type": "markdown",
      "source": [
        "Explicação:\n",
        "\n",
        "* Na primeira linha a variável **x** recebe um valor *inteiro* (5).\n",
        "* Na segunda linha usamos o comando **print** para imprimir algum valor, porém dentro do comando **print** adicionamos o comando **type** que permite exibir qual o tipo de dados atual é uma variável.\n",
        "* Observe que a saída do programa é ***<class 'int'>***. Isso quer dizer que a variável x é do tipo inteiro.\n",
        "\n",
        "\n",
        "* Se observarmos no exemplo, a variável **y** é do tipo str (string) e a variável **z** é do tipo float (números reais com casas decimais.)\n",
        "\n",
        "\n",
        "ℹ O uso do comando **type** se faz necessário quando precisamos de saber qual o tipo da variável."
      ],
      "metadata": {
        "id": "LaudRzXsM4YN"
      }
    },
    {
      "cell_type": "markdown",
      "source": [
        "---\n",
        "**2 - Exercício**\n",
        "* Vamos praticar um pouco sobre variáveis, tipos e atribuição.\n",
        "* Perceba as possibilidades de utilização do comando print para imprimir os valores das variáveis:\n",
        "\n"
      ],
      "metadata": {
        "id": "WkYCUYkUpo2h"
      }
    },
    {
      "cell_type": "code",
      "source": [
        "# Passos para criar uma variável\n",
        "# 1-Pensar no nome da variável\n",
        "# 2-Escrever o nome da variável atribuindo um determinado valor a ela.\n",
        "\n",
        "print(\"\\t\\tImprimindo valores em Variáveis!!\\n\\n\")\n",
        "\n",
        "# Criando a variável nome, do tipo str e atribuindo o valor Alexandre Sauer a esse variavel.\n",
        "nome = \"Alexandre Sauer\"\n",
        "print (\"Seu nome: \",nome)\n",
        "print(\"Seu nome: nome\") #Forma errada. Nesse sintaxe, não será impresso na tela o conteúdo armazenado na variável. Veja a saída.\n",
        "print(\"O tipo da variável nome é: \", type(nome),\"\\n\")\n",
        "\n",
        "\n",
        "\n",
        "# Criando a variável idade, do tipo inteiro e atribuindo o valor 39 a essa variável.\n",
        "idade = 39\n",
        "print(\"Sua idade: \",idade)\n",
        "print(\"O tipo da variável idade é: \", type(idade),\"\\n\")\n",
        "\n",
        "#Agora guardando o valor 29 na variável idade\n",
        "idade = 29\n",
        "print(\"Agora sua idade é: \",idade)\n",
        "\n",
        "# Criando a variável altura e atribuindo o valor real 1.85\n",
        "altura = 1.85\n",
        "print(\"Sua altura:\", altura)\n",
        "print(\"O tipo da variável altura é: \", type(idade))"
      ],
      "metadata": {
        "colab": {
          "base_uri": "https://localhost:8080/"
        },
        "id": "FABJgdttieBj",
        "outputId": "30bca57c-dabc-4e78-d6e5-4e3908811699"
      },
      "execution_count": 53,
      "outputs": [
        {
          "output_type": "stream",
          "name": "stdout",
          "text": [
            "\t\tImprimindo valores em Variáveis!!\n",
            "\n",
            "\n",
            "Seu nome:  Alexandre Sauer\n",
            "Seu nome: nome\n",
            "O tipo da variável nome é:  <class 'str'> \n",
            "\n",
            "Sua idade:  39\n",
            "O tipo da variável idade é:  <class 'int'> \n",
            "\n",
            "Agora sua idade é:  29\n",
            "Sua altura: 1.85\n",
            "O tipo da variável altura é:  <class 'int'>\n"
          ]
        }
      ]
    },
    {
      "cell_type": "markdown",
      "source": [
        "---\n",
        "✅ Lembrem-se de que a programação é uma habilidade valiosa que pode abrir muitas portas em suas carreiras. Continuem se aprimorando!\n",
        "\n",
        "[Simplifica Treinamentos](https://www.simplificatreinamentos.com.br/)"
      ],
      "metadata": {
        "id": "7HKuMeFognpU"
      }
    },
    {
      "cell_type": "code",
      "source": [
        "\n"
      ],
      "metadata": {
        "id": "AxVqBPylm0Le"
      },
      "execution_count": null,
      "outputs": []
    }
  ]
}