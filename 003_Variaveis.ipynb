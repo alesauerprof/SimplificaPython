{
  "nbformat": 4,
  "nbformat_minor": 0,
  "metadata": {
    "colab": {
      "provenance": [],
      "authorship_tag": "ABX9TyNUvfTkp84xv05r/9jNM4Oq",
      "include_colab_link": true
    },
    "kernelspec": {
      "name": "python3",
      "display_name": "Python 3"
    },
    "language_info": {
      "name": "python"
    }
  },
  "cells": [
    {
      "cell_type": "markdown",
      "metadata": {
        "id": "view-in-github",
        "colab_type": "text"
      },
      "source": [
        "<a href=\"https://colab.research.google.com/github/alesauerprof/SimplificaPython/blob/main/003_Variaveis.ipynb\" target=\"_parent\"><img src=\"https://colab.research.google.com/assets/colab-badge.svg\" alt=\"Open In Colab\"/></a>"
      ]
    },
    {
      "cell_type": "markdown",
      "source": [
        "# Simplifica Python\n",
        "---\n",
        "🤖 **Variáveis**\n",
        "\n",
        "Variáveis são recursos poderosos de linguagens de programação que possibilita o armazenamento e a manipulação de dados. Essas variáveis são **recipientes** que podem conter diversos tipos de dados, como números, textos, listas, entre outros. Neste tutorial, será ensinado como declarar variáveis, atribuir valores a elas e compreender os diferentes tipos de dados suportados pela linguagem Python..\n",
        "\n",
        "Vamos aprender os seguintes tópicos nesta aula::\n",
        "\n",
        "✔ Declarando variáveis\n",
        "\n",
        "✔ Tipo de Dados em Python\n",
        "\n",
        "✔ Atribuindo valores a variáveis\n",
        "\n",
        "✔ Acessando valores a variáveis\n",
        "\n",
        "✔ Concatenação de strings\n",
        "\n",
        "✔ Conversão de tipos\n",
        "\n",
        "✔ Conclusões"
      ],
      "metadata": {
        "id": "2JZT4w46vTG6"
      }
    },
    {
      "cell_type": "markdown",
      "source": [
        "---\n",
        "***1 - Declaração de Variáveis***\n",
        "\n",
        "**1.1 Atribuição de Valor**\n",
        "* Em Python, você não precisa declarar o tipo de uma variável explicitamente. O interpretador Python identifica automaticamente o tipo de dados com base no valor atribuído à variável.\n",
        "* Para declarar uma variável, basta dar um nome a ela e atribuir um valor usando o operador de atribuição =.\n"
      ],
      "metadata": {
        "id": "qlTKcQzU6mFl"
      }
    },
    {
      "cell_type": "code",
      "source": [
        "numero = 42\n",
        "nome = \"Alice Castro\""
      ],
      "metadata": {
        "id": "jxHZZNG8vpWh"
      },
      "execution_count": 9,
      "outputs": []
    },
    {
      "cell_type": "markdown",
      "source": [
        "Nesse exemplo:\n",
        "\n",
        "* **numero** é uma variável que contém/guarda um número inteiro (int)\n",
        "* **nome** é uma variável que contém/guarda uma(s) palavra(s) que chamamos de string(str)"
      ],
      "metadata": {
        "id": "M9qcdNjCDT9z"
      }
    },
    {
      "cell_type": "markdown",
      "source": [
        "Vamos analisar um outro exemplo:"
      ],
      "metadata": {
        "id": "Bkrm-yNzF0IK"
      }
    },
    {
      "cell_type": "code",
      "source": [
        "nome = \"Alexandre Sauer\"\n",
        "idade = 26\n",
        "altura = 1.84\n",
        "\n",
        "print(nome, idade, altura)\n"
      ],
      "metadata": {
        "colab": {
          "base_uri": "https://localhost:8080/"
        },
        "id": "waOzOkqTF5Hr",
        "outputId": "8f204c13-b829-4625-cd0c-4e7f65f62575"
      },
      "execution_count": 6,
      "outputs": [
        {
          "output_type": "stream",
          "name": "stdout",
          "text": [
            "Alexandre Sauer 26 1.84\n"
          ]
        }
      ]
    },
    {
      "cell_type": "markdown",
      "source": [
        "Nesse exemplo:\n",
        "\n",
        "* Declaramos a variável **nome** que guarda a string **Alexandre Sauer**.\n",
        "* Declaramos a variável **idade** que guarda o inteiro **26**.\n",
        "* Declaramos a variável **altura** que guarda o número real **1.84**.\n",
        "\n",
        "* Por fim, **imprimimos** os valores guardados nas variáveis usando o comando print. Como fizemos isso? Colocamos dentro dos parenteses do comando o nome das variáveis, separadas por vígula (,).\n",
        "\n",
        "ℹ Quando se define uma nova variável, chamamos isso de **declaração de variável**.\n",
        "\n"
      ],
      "metadata": {
        "id": "QLObVTyoGQpM"
      }
    },
    {
      "cell_type": "markdown",
      "source": [
        "**1.2 Tipagem Dinâmica**\n",
        "\n",
        "* O Python permite que você altere o valor de uma variável a qualquer momento, e o tipo da variável se adapta automaticamente ao novo valor, seja o valor sendo um número intereiro, uma string(palavra), um número real, etc. Veja o exemplo abaixo:"
      ],
      "metadata": {
        "id": "r3PBbDExD6eF"
      }
    },
    {
      "cell_type": "code",
      "source": [
        "numero = 42\n",
        "numero = \"quarenta e dois\""
      ],
      "metadata": {
        "id": "PUR7PHzREasV"
      },
      "execution_count": 11,
      "outputs": []
    },
    {
      "cell_type": "markdown",
      "source": [
        "Na primeira linha a variável **numero** inicialmente continha um valor *inteiro* (42). Na segunda linha do código foi atribuído a essa variável um valor do tipo *string* (quarenta e dois).\n",
        "\n",
        "ℹ Quando uma variável em uma linguagem de programação tem a capacidade de receber tipos de dados diferentes (inteiro, string, real, outros), chamamos isso de tipagem dinâmica."
      ],
      "metadata": {
        "id": "OIetAMtWEfur"
      }
    },
    {
      "cell_type": "markdown",
      "source": [
        "---\n",
        "**1.2.1 - Verificação de Tipo Dinâmica**\n",
        "* Você pode verificar o tipo de uma variável usando o comando **type()**. Por exemplo:\n",
        "\n"
      ],
      "metadata": {
        "id": "vcUw2vHb8mvC"
      }
    },
    {
      "cell_type": "code",
      "source": [
        "x = 5\n",
        "print(type(x))\n",
        "\n",
        "y = \"Casa\"\n",
        "print(type(y))\n",
        "\n",
        "z = 1.5341\n",
        "print(type(z))\n"
      ],
      "metadata": {
        "colab": {
          "base_uri": "https://localhost:8080/"
        },
        "id": "3RYOiDo-8elV",
        "outputId": "721b3033-17d4-475b-d171-28f529e3534b"
      },
      "execution_count": 16,
      "outputs": [
        {
          "output_type": "stream",
          "name": "stdout",
          "text": [
            "<class 'int'>\n",
            "<class 'str'>\n",
            "<class 'float'>\n"
          ]
        }
      ]
    },
    {
      "cell_type": "markdown",
      "source": [
        "Explicação:\n",
        "\n",
        "* Na primeira linha a variável **x** recebe um valor *inteiro* (5).\n",
        "* Na segunda linha usamos o comando **print** para imprimir algum valor, porém dentro do comando **print** adicionamos o comando **type** que permite exibir qual o tipo de dados atual é uma variável.\n",
        "* Observe que a saída do programa é ***<class 'int'>***. Isso quer dizer que a variável x é do tipo inteiro.\n",
        "\n",
        "\n",
        "* Se observarmos no exemplo, a variável **y** é do tipo str (string) e a variável **z** é do tipo float (números reais com casas decimais.)\n",
        "\n",
        "\n",
        "ℹ O uso do comando **type** se faz necessário quando precisamos de saber qual o tipo da variável."
      ],
      "metadata": {
        "id": "LaudRzXsM4YN"
      }
    },
    {
      "cell_type": "markdown",
      "source": [
        "---\n",
        "***3 - Multiplicação***\n",
        "* A operação de multiplicação é usada para multiplicar dois valores.\n",
        "* O operador \\* é utilizado para realizar a multiplicação."
      ],
      "metadata": {
        "id": "UzTVlQJS9cuY"
      }
    },
    {
      "cell_type": "code",
      "source": [
        "print(1*2)\n",
        "print(12.7*65.2)\n",
        "print(20*2)\n",
        "print(0.12 * 2.65)"
      ],
      "metadata": {
        "colab": {
          "base_uri": "https://localhost:8080/"
        },
        "outputId": "4ed56093-7c74-4c3e-b95a-28a54cd212d7",
        "id": "vXAEU1gu-R53"
      },
      "execution_count": null,
      "outputs": [
        {
          "output_type": "stream",
          "name": "stdout",
          "text": [
            "2\n",
            "828.04\n",
            "40\n",
            "0.318\n"
          ]
        }
      ]
    },
    {
      "cell_type": "markdown",
      "source": [
        "---\n",
        "***4 - Divisão***\n",
        "* A operação de divisão é usada para dividir um valor pelo outro.\n",
        "* O operador / é utilizado para realizar a divisão."
      ],
      "metadata": {
        "id": "XrbOYqQNGUD0"
      }
    },
    {
      "cell_type": "code",
      "source": [
        "print(15/3)\n",
        "print(20/5)\n",
        "print(21.12/23)"
      ],
      "metadata": {
        "colab": {
          "base_uri": "https://localhost:8080/"
        },
        "id": "y5Z0VcnKG5-D",
        "outputId": "b199a885-fccd-4412-82c4-2b47981123f1"
      },
      "execution_count": null,
      "outputs": [
        {
          "output_type": "stream",
          "name": "stdout",
          "text": [
            "5.0\n",
            "4.0\n",
            "0.9182608695652175\n"
          ]
        }
      ]
    },
    {
      "cell_type": "markdown",
      "source": [
        "---\n",
        "***5 - Módulo***\n",
        "* A operação de módulo é usada para encontrar o restante da divisão de um número por outro.\n",
        "* Em Python, você pode usar o operador % para calcular o módulo."
      ],
      "metadata": {
        "id": "PI-qQN0deu-P"
      }
    },
    {
      "cell_type": "code",
      "source": [
        "print(20%5)\n",
        "print(30%-2)\n",
        "print(10.54%5)"
      ],
      "metadata": {
        "colab": {
          "base_uri": "https://localhost:8080/"
        },
        "id": "H907H1RKe99R",
        "outputId": "4f08068c-557e-4ca5-a900-ae61fab8ea37"
      },
      "execution_count": null,
      "outputs": [
        {
          "output_type": "stream",
          "name": "stdout",
          "text": [
            "0\n",
            "0\n",
            "0.5399999999999991\n"
          ]
        }
      ]
    },
    {
      "cell_type": "markdown",
      "source": [
        "---\n",
        "***5 - Potência***\n",
        "* A operação de potência é usada para elevar um número a uma potência.\n",
        "* Em Python, você pode usar o operador ** para calcular a potência. Isso mesmo, são dois asteriscos."
      ],
      "metadata": {
        "id": "0X5HvraE-mLW"
      }
    },
    {
      "cell_type": "code",
      "source": [
        "print(2**3)\n",
        "print(30**-2)\n",
        "print(-2**3)"
      ],
      "metadata": {
        "colab": {
          "base_uri": "https://localhost:8080/"
        },
        "id": "2hoHrdFZ-2g0",
        "outputId": "7ae1c002-1607-4d72-df2a-e5c60170e8d4"
      },
      "execution_count": null,
      "outputs": [
        {
          "output_type": "stream",
          "name": "stdout",
          "text": [
            "8\n",
            "0.0011111111111111111\n",
            "-8\n"
          ]
        }
      ]
    },
    {
      "cell_type": "markdown",
      "source": [
        "---\n",
        "✅ Lembrem-se de que a programação é uma habilidade valiosa que pode abrir muitas portas em suas carreiras. Continuem se aprimorando!\n",
        "\n",
        "[Simplifica Treinamentos](https://www.simplificatreinamentos.com.br/)"
      ],
      "metadata": {
        "id": "7HKuMeFognpU"
      }
    }
  ]
}