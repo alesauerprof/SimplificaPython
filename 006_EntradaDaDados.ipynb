{
  "nbformat": 4,
  "nbformat_minor": 0,
  "metadata": {
    "colab": {
      "provenance": [],
      "authorship_tag": "ABX9TyPjfsOSgSEqxaGbmrP5Cc6t",
      "include_colab_link": true
    },
    "kernelspec": {
      "name": "python3",
      "display_name": "Python 3"
    },
    "language_info": {
      "name": "python"
    }
  },
  "cells": [
    {
      "cell_type": "markdown",
      "metadata": {
        "id": "view-in-github",
        "colab_type": "text"
      },
      "source": [
        "<a href=\"https://colab.research.google.com/github/alesauerprof/SimplificaPython/blob/main/006_EntradaDaDados.ipynb\" target=\"_parent\"><img src=\"https://colab.research.google.com/assets/colab-badge.svg\" alt=\"Open In Colab\"/></a>"
      ]
    },
    {
      "cell_type": "markdown",
      "source": [
        "# Simplifica Python\n",
        "---\n",
        "© **Entendendo a Entrada de Dados em Python**\n",
        "\n",
        "A entrada de dados é um aspecto fundamental em qualquer linguagem de programação, e Python não é exceção. Em Python, você pode receber informações do usuário ou de outras fontes usando diferentes métodos. Vamos explorar como a entrada de dados funciona em Python e fornecer alguns exemplos de código para ilustrar esses conceitos."
      ],
      "metadata": {
        "id": "2JZT4w46vTG6"
      }
    },
    {
      "cell_type": "markdown",
      "source": [
        "**1 - A Função input()**\n",
        "\n",
        "A maneira mais comum de receber entrada do usuário em Python é por meio da função ***input()***. Esta função permite que você solicite ao usuário que insira dados através do teclado. O valor inserido é tratado como uma sequência de caracteres (string). Veja um exemplo:"
      ],
      "metadata": {
        "id": "DaCwYn33dVL6"
      }
    },
    {
      "cell_type": "code",
      "source": [
        "nome = input(\"Digite seu nome: \")\n",
        "print(\"Olá, \" + nome + \"!\")"
      ],
      "metadata": {
        "id": "PUR7PHzREasV",
        "colab": {
          "base_uri": "https://localhost:8080/"
        },
        "outputId": "b99c2d84-51c5-4c9e-a8cd-053a16772a2b"
      },
      "execution_count": 1,
      "outputs": [
        {
          "output_type": "stream",
          "name": "stdout",
          "text": [
            "Digite seu nome: sauer\n",
            "Olá, sauer!\n"
          ]
        }
      ]
    },
    {
      "cell_type": "markdown",
      "source": [
        "Neste exemplo, a função **input**() exibe a mensagem \"*Digite seu nome: *\" e aguarda a entrada do usuário. O que o usuário digitar será armazenado na variável **nome**."
      ],
      "metadata": {
        "id": "oR-rwQ88dnEx"
      }
    },
    {
      "cell_type": "markdown",
      "source": [
        "**2 - Conversão de Dados de Entrada**\n",
        "\n",
        "Como a função **input()** retorna uma **string**, você pode precisar converter o valor inserido em outro tipo de dado, se necessário. Por exemplo, se você quiser realizar cálculos com números fornecidos pelo usuário, você deve converter a entrada para um tipo numérico.\n",
        "\n",
        "Aqui está um exemplo:"
      ],
      "metadata": {
        "id": "et_IgUTVd10k"
      }
    },
    {
      "cell_type": "code",
      "source": [
        "idade = input(\"Digite sua idade: \")\n",
        "idade = int(idade)  # Convertendo a entrada para um inteiro\n",
        "ano_nascimento = 2023 - idade\n",
        "print(\"Você nasceu em \" + str(ano_nascimento))"
      ],
      "metadata": {
        "id": "KS4gkVUjeIrl"
      },
      "execution_count": null,
      "outputs": []
    },
    {
      "cell_type": "markdown",
      "source": [
        "Neste caso, convertemos a entrada de idade em um número inteiro usando a função **int()**, tornando possível realizar cálculos."
      ],
      "metadata": {
        "id": "nrVpMazaeLTk"
      }
    },
    {
      "cell_type": "markdown",
      "source": [
        "**3 - Conclusão**\n",
        "\n",
        "A entrada de dados em Python é essencial para interatividade com o usuário e para a construção de aplicativos úteis. A função input() é a ferramenta primária para receber dados do usuário, e você pode converter esses dados para tipos adequados conforme necessário. Lembre-se de considerar questões de segurança ao trabalhar com dados de entrada.\n",
        "\n",
        "Esperamos que este guia introdutório tenha esclarecido o funcionamento da entrada de dados em Python e que você esteja mais confiante em criar programas interativos. Lembre-se de praticar e experimentar com exemplos de código para aprofundar seu entendimento. Python é uma linguagem"
      ],
      "metadata": {
        "id": "-kRkKCCpefzR"
      }
    },
    {
      "cell_type": "markdown",
      "source": [
        "---\n",
        "✅ Lembrem-se de que a programação é uma habilidade valiosa que pode abrir muitas portas em suas carreiras. Continuem se aprimorando!\n",
        "\n",
        "[Simplifica Treinamentos](https://www.simplificatreinamentos.com.br/)"
      ],
      "metadata": {
        "id": "7HKuMeFognpU"
      }
    }
  ]
}